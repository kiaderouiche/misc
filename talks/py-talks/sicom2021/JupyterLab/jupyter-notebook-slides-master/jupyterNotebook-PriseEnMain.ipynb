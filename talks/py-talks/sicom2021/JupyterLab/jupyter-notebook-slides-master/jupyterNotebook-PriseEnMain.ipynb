{
 "cells": [
  {
   "cell_type": "markdown",
   "metadata": {
    "slideshow": {
     "slide_type": "slide"
    }
   },
   "source": [
    "# Informatique et Sciences du Numérique\n",
    "## Apprentissage de jupyter Notebook - Exercice de prise en main\n",
    "\n",
    "Cet exercice a pour objectif de vous faire rapidement explorer les **fonctionnalités de base** de l'interpréteur interactif **jupyter** en mode **Notebook**.\n",
    "\n",
    "Mais tout d'abord **félicitations** d'être déjà parvenu à ouvrir ce notebook !\n",
    "\n",
    "-----"
   ]
  },
  {
   "cell_type": "markdown",
   "metadata": {
    "slideshow": {
     "slide_type": "slide"
    }
   },
   "source": [
    "## Édition et exécution d'une cellule de code"
   ]
  },
  {
   "cell_type": "markdown",
   "metadata": {
    "slideshow": {
     "slide_type": "subslide"
    }
   },
   "source": [
    "Un notebook jupyter consiste en **cellules** individuelles pouvant contenir du **code** Python, du **texte** (avec formatage Markdown, HTML et LaTeX) ou des **graphiques**. Commençons par les cellules de type Code.\n",
    "\n",
    "**1)** Placez le curseur dans la 1ère cellule **In[ ]:** ci-dessous puis frappez `<enter>`. Que se passe-t-il ? Rien d'autre que l'insertion d'un saut de ligne... C'est normal, car dans une cellule de type \"Code\" (c'est-à-dire préfixée par **In[ ]:**) on est par défaut en mode **édition de code** Python !\n",
    "\n",
    "\n",
    "Pour **exécuter le code** Python d'une cellule, il faut en effet frapper `<maj-enter>` (ou cliquer sur le bouton <button class='fa fa-step-forward icon-step-forward'></button>, ou encore utiliser le menu `Cell>Run and Select Below...`). Essayez !"
   ]
  },
  {
   "cell_type": "code",
   "execution_count": null,
   "metadata": {
    "collapsed": true,
    "slideshow": {
     "slide_type": "subslide"
    }
   },
   "outputs": [],
   "source": [
    "15 + 24"
   ]
  },
  {
   "cell_type": "code",
   "execution_count": null,
   "metadata": {
    "collapsed": true,
    "slideshow": {
     "slide_type": "fragment"
    }
   },
   "outputs": [],
   "source": [
    "'Hello tout le monde !'"
   ]
  },
  {
   "cell_type": "markdown",
   "metadata": {
    "slideshow": {
     "slide_type": "fragment"
    }
   },
   "source": [
    "Une ligne **Out[ ]:** devrait être apparue en dessous de la 1ère expression, affichant le résultat de celle-ci ! Le curseur est alors automatiquement passé dans la cellule d'en-dessous que vous pouvez exécuter à son tour.\n",
    "\n",
    "_Notez qu'il est aussi possible de frapper `<ctrl-enter>` (identique à `Cell>Run`). Dans ce cas, le curseur **reste dans la cellule** après l'exécution du code._"
   ]
  },
  {
   "cell_type": "markdown",
   "metadata": {
    "slideshow": {
     "slide_type": "subslide"
    }
   },
   "source": [
    "**2)** Exécutez maintenant le code de la cellule ci-dessous."
   ]
  },
  {
   "cell_type": "code",
   "execution_count": null,
   "metadata": {
    "collapsed": true,
    "slideshow": {
     "slide_type": "-"
    }
   },
   "outputs": [],
   "source": [
    "a, b = 6, 10      # affectation simultanée de 2 variables\n",
    "print('La somme de ces 2 nombres vaut :', a + b)"
   ]
  },
  {
   "cell_type": "markdown",
   "metadata": {
    "slideshow": {
     "slide_type": "fragment"
    }
   },
   "source": [
    "Remarquez que l'exécution du code ci-dessus n'a retourné aucune valeur. Il n'y a pas de prompt Out[ ]. "
   ]
  },
  {
   "cell_type": "markdown",
   "metadata": {
    "slideshow": {
     "slide_type": "fragment"
    }
   },
   "source": [
    "**3)** Peut-on **modifier le code** d'une cellule puis le **ré-exécuter** ? Bien sûr !  \n",
    "Expérimentez cela dans la cellule ci-dessus en modifiant la valeur des variables a et b, puis frappez à nouveau `<maj-enter>`"
   ]
  },
  {
   "cell_type": "markdown",
   "metadata": {
    "slideshow": {
     "slide_type": "slide"
    }
   },
   "source": [
    "## Création de cellules de code"
   ]
  },
  {
   "cell_type": "markdown",
   "metadata": {
    "slideshow": {
     "slide_type": "subslide"
    }
   },
   "source": [
    "**4)** Comment puis-je créer **mes propres cellules** de code ? Tout simplement de la façon suivante :\n",
    "\n",
    "- sélectionnez d'abord la cellule juste au-dessus de l'emplacement où vous désirez insérer votre propre cellule  \n",
    "_(ou respectivement juste en-dessous)_\n",
    "- puis cliquez sur le bouton <button class='fa fa-plus icon-plus btn btn-xs btn-default'></button> ou faites `Insert>Insert Cell Below`  \n",
    "_(ou respectivement `Insert>Insert Cell Above`)_"
   ]
  },
  {
   "cell_type": "markdown",
   "metadata": {
    "slideshow": {
     "slide_type": "subslide"
    }
   },
   "source": [
    "Exercez-vous en créant, juste en-dessous de la présente cellule, une nouvelle cellule. "
   ]
  },
  {
   "cell_type": "markdown",
   "metadata": {
    "slideshow": {
     "slide_type": "fragment"
    }
   },
   "source": [
    "Insérez-y le code :\n",
    "\n",
    "    print('Ouaouh... c'est ma première cellule !')\n",
    "\n",
    "puis exécutez le code de cette cellule."
   ]
  },
  {
   "cell_type": "markdown",
   "metadata": {
    "slideshow": {
     "slide_type": "fragment"
    }
   },
   "source": [
    "**5)** Nous vous avons tendu un piège : si vous avez repris cette instruction `print` telle quelle, son exécution a dû générer une erreur, car l'apostrophe de la partie de chaîne _...c'est..._ n'était pas préfixé de \"\\\". Peu importe, corrigez votre code et réexécutez-le, ce qui illustre bien l'intérêt de jupyter Notebook !"
   ]
  },
  {
   "cell_type": "markdown",
   "metadata": {
    "slideshow": {
     "slide_type": "slide"
    }
   },
   "source": [
    "## Destruction de cellules"
   ]
  },
  {
   "cell_type": "markdown",
   "metadata": {
    "slideshow": {
     "slide_type": "subslide"
    }
   },
   "source": [
    "**6)** Pour détruire une cellule, sélectionnez-la puis cliquez sur le bouton <button class='fa fa-cut icon-cut btn  btn-xs btn-default'></button> (ou faites `Edit>Delete Cell`). Exercez-vous en détruisant la cellule ci-dessous. Puis rétablissez-la avec `Edit>Undo Delete Cell`"
   ]
  },
  {
   "cell_type": "code",
   "execution_count": null,
   "metadata": {
    "collapsed": true,
    "slideshow": {
     "slide_type": "-"
    }
   },
   "outputs": [],
   "source": [
    "Une cellule à jeter !!!"
   ]
  },
  {
   "cell_type": "markdown",
   "metadata": {
    "slideshow": {
     "slide_type": "fragment"
    }
   },
   "source": [
    "Notez qu'il existe également : le bouton <button class='fa fa-copy icon-copy btn  btn-xs btn-default'></button> (correspondant au menu `Edit>Copy Cell`) ainsi que le bouton <button class='fa fa-paste icon-paste btn  btn-xs btn-default'></button> (et divers articles de menus `Edit>Paste Cell...`) "
   ]
  },
  {
   "cell_type": "markdown",
   "metadata": {
    "slideshow": {
     "slide_type": "slide"
    }
   },
   "source": [
    "## Déplacement, splittage et fusionnement de cellules"
   ]
  },
  {
   "cell_type": "markdown",
   "metadata": {
    "slideshow": {
     "slide_type": "subslide"
    }
   },
   "source": [
    "**7)** Vous trouvez ci-dessous 2 cellules de type texte (on verra dans un instant comment on peut créer de telles cellules).\n",
    "\n",
    "Commencez par **spliter** la première cellule : pour cela _double-cliquez_ d'abord dans la cellule pour l'éditer, puis placez le curseur entre les 2 lignes, et faites finalement `Edit>Split Cell`"
   ]
  },
  {
   "cell_type": "markdown",
   "metadata": {
    "slideshow": {
     "slide_type": "-"
    }
   },
   "source": [
    "Ceci est la **troisième cellule** de texte, blabla blabla blabla blabla blabla blabla blabla blabla blabla blabla blabla blabla blabla blabla.\n",
    "\n",
    "Ceci est la **seconde cellule** de texte, blabla blabla blabla blabla blabla blabla blabla blabla blabla blabla blabla blabla blabla blabla."
   ]
  },
  {
   "cell_type": "markdown",
   "metadata": {
    "slideshow": {
     "slide_type": "-"
    }
   },
   "source": [
    "Ceci est la **première cellule** de texte, blabla blabla blabla blabla blabla blabla blabla blabla blabla blabla blabla blabla blabla blabla."
   ]
  },
  {
   "cell_type": "markdown",
   "metadata": {
    "slideshow": {
     "slide_type": "subslide"
    }
   },
   "source": [
    "**8)** Vous devriez maintenant avoir ci-dessus 3 cellules de texte. **Déplacez-les** de façon à les mettre dans l'ordre, en utilisant les boutons  <button class='fa fa-arrow-up icon-arrow-up btn  btn-xs btn-default'></button> et <button class='fa fa-arrow-down icon-arrow-down btn  btn-xs btn-default'></button> ou menus `Edit>Move ...`)"
   ]
  },
  {
   "cell_type": "markdown",
   "metadata": {
    "slideshow": {
     "slide_type": "fragment"
    }
   },
   "source": [
    "**9)** Puis expérimentez le **fusionnement** de cellules en fusionnant ces 3 cellules de texte avec `Edit>Merge Cell Above` ou `Edit>Merge Cell Below`"
   ]
  },
  {
   "cell_type": "markdown",
   "metadata": {
    "slideshow": {
     "slide_type": "slide"
    }
   },
   "source": [
    "## Création de cellules de texte"
   ]
  },
  {
   "cell_type": "markdown",
   "metadata": {
    "slideshow": {
     "slide_type": "subslide"
    }
   },
   "source": [
    "Il existe 2 types de cellules de texte, selon le choix effectué à l'aide du menu déroulant de droite ou avec `Cell>Cell Type>...` :\n",
    "- **Raw NBConvert** (texte) : cellules de texte sans aucun formatage, directement éditables sans devoir _double-cliquer_ dedans ;\n",
    "- **Markdown** : cellules dans lesquelles le texte est soumis à un formatage selon la syntaxe Markdown ; les éventuelles balises HTML et le code LaTeX sont également interprétés...\n",
    "\n",
    "<u>**Remarque**</u> : le type **Heading** n'est plus supporté."
   ]
  },
  {
   "cell_type": "markdown",
   "metadata": {
    "slideshow": {
     "slide_type": "subslide"
    }
   },
   "source": [
    "**10)** Créez juste ci-dessous une cellule de type **Raw NBConvert** (texte). Pour cela, créez une cellule par le procédé standard (elle sera donc de type Code), puis changez son type à l'aide du menu déroulant. Constatez que la cellule reste toujours en mode édition."
   ]
  },
  {
   "cell_type": "markdown",
   "metadata": {
    "slideshow": {
     "slide_type": "subslide"
    }
   },
   "source": [
    "**11)** _S'agissant des cellules de texte au format **Markdown**, cela suppose quelques notions relatives au langage de balisage Markdown : [Rédigez en Markdown !](https://openclassrooms.com/courses/redigez-en-markdown)._\n",
    "\n",
    "_Pour vous donner une idée de la simplicité du balisage Markdown, vous pouvez double-cliquer dans les cellules de texte du présent notebook qui sont toutes au format Markdown._"
   ]
  },
  {
   "cell_type": "markdown",
   "metadata": {
    "slideshow": {
     "slide_type": "subslide"
    }
   },
   "source": [
    "_Et comme vous le voyez ci-dessous, il est donc même possible d'introduire du **code LaTeX** (placé entre deux caractères `$`) dans une cellule de type Markdown :_\n",
    "\n",
    "$$f(x) = x^2 - x^{1 \\over \\pi}$$"
   ]
  },
  {
   "cell_type": "markdown",
   "metadata": {
    "slideshow": {
     "slide_type": "fragment"
    }
   },
   "source": [
    "Pour plus d'informations : [un Notebook assez complet sur les cellules au format Markdown](http://nbviewer.jupyter.org/github/twistedhardware/mltutorial/blob/master/notebooks/jupyter/2.%20Markdown%20%26%20LaTeX.ipynb)"
   ]
  },
  {
   "cell_type": "markdown",
   "metadata": {
    "slideshow": {
     "slide_type": "slide"
    }
   },
   "source": [
    "## Sauvegarder et imprimer un notebook"
   ]
  },
  {
   "cell_type": "markdown",
   "metadata": {
    "slideshow": {
     "slide_type": "subslide"
    }
   },
   "source": [
    "**13)** Lorsque vous avez terminé de travailler dans un notebook, **n'oubliez pas de le sauvegarder** avec le bouton <button class='fa fa-save icon-save btn  btn-xs btn-default'></button> (ou le menu `File>Save and Checkpoint`). Sachez que jupyter effectue par défaut des sauvegardes à intervalle régulier, et que `File>Revert to Checkpoint` permet de revenir à un état enregistré."
   ]
  },
  {
   "cell_type": "markdown",
   "metadata": {
    "slideshow": {
     "slide_type": "fragment"
    }
   },
   "source": [
    "**14)** _Si vous désirez **imprimer un notebook**, n'utilisez pas la commande d'impression de votre navigateur web depuis la fenêtre de notebook, le résultat sera très mauvais. La bonne méthode consiste à faire au préalable depuis le menu `File>Print Preview`. Mais il est peut être préférable de télécharger une version numérique du notebook sur l'ordinateur local dans le format qui vous convient comme le HTML pour obtenir une page web statique avec le menu `File>Download as`...\n"
   ]
  },
  {
   "cell_type": "markdown",
   "metadata": {
    "slideshow": {
     "slide_type": "slide"
    }
   },
   "source": [
    "## Graphiques dans un notebook\n",
    "\n",
    "_Si vous exécutez la fonction magique `%pylab inline`, les packages **Numpy** et **Matplotlib** sont importés et il sera possible de dessiner des graphiques de façon \"inline\" (intégrés au notebook)._"
   ]
  },
  {
   "cell_type": "code",
   "execution_count": null,
   "metadata": {
    "collapsed": true,
    "slideshow": {
     "slide_type": "-"
    }
   },
   "outputs": [],
   "source": [
    "%pylab inline"
   ]
  },
  {
   "cell_type": "markdown",
   "metadata": {
    "slideshow": {
     "slide_type": "subslide"
    }
   },
   "source": [
    "_L'exemple de code suivant sera alors exécutable._"
   ]
  },
  {
   "cell_type": "code",
   "execution_count": null,
   "metadata": {
    "collapsed": true,
    "slideshow": {
     "slide_type": "-"
    }
   },
   "outputs": [],
   "source": [
    "# Fait appel à numpy (linspace et pi)\n",
    "x = linspace(0, 3*pi, 500)\n",
    "\n",
    "# Fait appel à matplotlib (plot et title)\n",
    "plot(x, sin(x))\n",
    "title('Graphique sin(x)')"
   ]
  },
  {
   "cell_type": "markdown",
   "metadata": {
    "slideshow": {
     "slide_type": "slide"
    }
   },
   "source": [
    "## Documents Multimedia dans un notebook"
   ]
  },
  {
   "cell_type": "markdown",
   "metadata": {
    "slideshow": {
     "slide_type": "subslide"
    }
   },
   "source": [
    "### Intégrer une image :"
   ]
  },
  {
   "cell_type": "code",
   "execution_count": null,
   "metadata": {
    "slideshow": {
     "slide_type": "fragment"
    }
   },
   "outputs": [],
   "source": [
    "from IPython.display import Image\n",
    "Image(\"http://api.si.lycee.ecmorlaix.fr/APprentissagePythonJupyter/img/jupyter.png\")"
   ]
  },
  {
   "cell_type": "raw",
   "metadata": {
    "slideshow": {
     "slide_type": "fragment"
    }
   },
   "source": [
    "Ou simplement en Markdown tel que : ![Logo de jupyter](http://api.si.lycee.ecmorlaix.fr/APprentissagePythonJupyter/img/jupyter.png) "
   ]
  },
  {
   "cell_type": "markdown",
   "metadata": {
    "slideshow": {
     "slide_type": "subslide"
    }
   },
   "source": [
    "### Intégrer une vidéo youtube :"
   ]
  },
  {
   "cell_type": "code",
   "execution_count": null,
   "metadata": {
    "slideshow": {
     "slide_type": "fragment"
    }
   },
   "outputs": [],
   "source": [
    "from IPython.display import YouTubeVideo\n",
    "YouTubeVideo('Rc4JQWowG5I')"
   ]
  },
  {
   "cell_type": "markdown",
   "metadata": {
    "slideshow": {
     "slide_type": "subslide"
    }
   },
   "source": [
    "### Intégrer une page web :"
   ]
  },
  {
   "cell_type": "code",
   "execution_count": null,
   "metadata": {
    "scrolled": true,
    "slideshow": {
     "slide_type": "fragment"
    }
   },
   "outputs": [],
   "source": [
    "from IPython.display import HTML\n",
    "HTML('<IFrame src=\"https://fr.wikipedia.org/wiki/Jupyter\" width=700 height=350>')"
   ]
  },
  {
   "cell_type": "markdown",
   "metadata": {},
   "source": [
    "### Executer des commandes externes"
   ]
  },
  {
   "cell_type": "code",
   "execution_count": 2,
   "metadata": {},
   "outputs": [
    {
     "name": "stdout",
     "output_type": "stream",
     "text": [
      "  PID TTY      STAT   TIME COMMAND\n",
      "    1 ?        Ss     0:05 /sbin/init\n",
      "    2 ?        S      0:00 [kthreadd]\n",
      "    4 ?        S<     0:00 [kworker/0:0H]\n",
      "    6 ?        S<     0:00 [mm_percpu_wq]\n",
      "    7 ?        S      0:00 [ksoftirqd/0]\n",
      "    8 ?        S      0:15 [rcu_sched]\n",
      "    9 ?        S      0:00 [rcu_bh]\n",
      "   10 ?        S      0:00 [migration/0]\n",
      "   11 ?        S      0:00 [watchdog/0]\n",
      "   12 ?        S      0:00 [cpuhp/0]\n",
      "   13 ?        S      0:00 [cpuhp/1]\n",
      "   14 ?        S      0:00 [watchdog/1]\n",
      "   15 ?        S      0:00 [migration/1]\n",
      "   16 ?        S      0:00 [ksoftirqd/1]\n",
      "   18 ?        S<     0:00 [kworker/1:0H]\n",
      "   19 ?        S      0:00 [cpuhp/2]\n",
      "   20 ?        S      0:00 [watchdog/2]\n",
      "   21 ?        S      0:00 [migration/2]\n",
      "   22 ?        S      0:00 [ksoftirqd/2]\n",
      "   24 ?        S<     0:00 [kworker/2:0H]\n",
      "   25 ?        S      0:00 [cpuhp/3]\n",
      "   26 ?        S      0:00 [watchdog/3]\n",
      "   27 ?        S      0:00 [migration/3]\n",
      "   28 ?        S      0:00 [ksoftirqd/3]\n",
      "   30 ?        S<     0:00 [kworker/3:0H]\n",
      "   31 ?        S      0:00 [kdevtmpfs]\n",
      "   32 ?        S<     0:00 [netns]\n",
      "   36 ?        S      0:00 [khungtaskd]\n",
      "   37 ?        S      0:00 [oom_reaper]\n",
      "   38 ?        S<     0:00 [writeback]\n",
      "   39 ?        S      0:00 [kcompactd0]\n",
      "   40 ?        SN     0:00 [ksmd]\n",
      "   41 ?        SN     0:01 [khugepaged]\n",
      "   43 ?        S<     0:00 [crypto]\n",
      "   44 ?        S<     0:00 [kintegrityd]\n",
      "   45 ?        S<     0:00 [kblockd]\n",
      "   46 ?        S<     0:00 [edac-poller]\n",
      "   47 ?        S<     0:00 [devfreq_wq]\n",
      "   48 ?        S      0:00 [kworker/2:2]\n",
      "   49 ?        S<     0:00 [watchdogd]\n",
      "   50 ?        S      0:00 [kauditd]\n",
      "   51 ?        S      0:02 [kswapd0]\n",
      "   65 ?        S<     0:00 [kthrotld]\n",
      "   67 ?        S<     0:00 [ipv6_addrconf]\n",
      "  105 ?        S<     0:00 [acpi_thermal_pm]\n",
      "  108 ?        S<     0:00 [ata_sff]\n",
      "  109 ?        S      0:00 [irq/17-mmc0]\n",
      "  157 ?        S      0:00 [scsi_eh_0]\n",
      "  158 ?        S<     0:00 [scsi_tmf_0]\n",
      "  159 ?        S      0:00 [scsi_eh_1]\n",
      "  160 ?        S<     0:00 [scsi_tmf_1]\n",
      "  161 ?        S      0:00 [scsi_eh_2]\n",
      "  162 ?        S<     0:00 [scsi_tmf_2]\n",
      "  163 ?        S      0:00 [scsi_eh_3]\n",
      "  164 ?        S<     0:00 [scsi_tmf_3]\n",
      "  165 ?        S      0:00 [scsi_eh_4]\n",
      "  166 ?        S<     0:00 [scsi_tmf_4]\n",
      "  167 ?        S      0:00 [scsi_eh_5]\n",
      "  168 ?        S<     0:00 [scsi_tmf_5]\n",
      "  176 ?        S      0:00 [scsi_eh_6]\n",
      "  177 ?        S<     0:00 [scsi_tmf_6]\n",
      "  178 ?        S      0:00 [usb-storage]\n",
      "  184 ?        S<     0:01 [kworker/2:1H]\n",
      "  187 ?        S<     0:00 [kworker/1:1H]\n",
      "  188 ?        S<     0:00 [kworker/3:1H]\n",
      "  189 ?        S<     0:00 [kworker/0:1H]\n",
      "  225 ?        S      0:01 [jbd2/sda6-8]\n",
      "  226 ?        S<     0:00 [ext4-rsv-conver]\n",
      "  239 ?        S      0:00 [jbd2/sda7-8]\n",
      "  240 ?        S<     0:00 [ext4-rsv-conver]\n",
      "  274 ?        Ss     0:00 /lib/systemd/systemd-journald\n",
      "  293 ?        Ss     0:01 /lib/systemd/systemd-udevd\n",
      "  310 ?        S      0:00 [irq/26-mei_me]\n",
      "  311 ?        S      0:00 [irq/23-smo8800]\n",
      "  315 ?        S      0:00 [i915/signal:0]\n",
      "  316 ?        S      0:00 [i915/signal:1]\n",
      "  317 ?        S      0:00 [i915/signal:2]\n",
      "  319 ?        S<     0:00 [cfg80211]\n",
      "  320 ?        S      0:00 [irq/28-iwlwifi]\n",
      "  321 ?        S<     0:00 [kworker/u9:0]\n",
      "  507 ?        S      0:00 [jbd2/sda1-8]\n",
      "  508 ?        S<     0:00 [ext4-rsv-conver]\n",
      "  510 ?        D      0:00 [jbd2/sda8-8]\n",
      "  511 ?        S<     0:00 [ext4-rsv-conver]\n",
      "  534 ?        Ssl    0:00 /lib/systemd/systemd-timesyncd\n",
      "  557 ?        Ssl    0:00 /usr/sbin/rsyslogd -n\n",
      "  558 ?        Ss     0:00 /usr/sbin/cron -f\n",
      "  562 ?        Ss     0:01 /usr/bin/dbus-daemon --system --address=systemd: --no\n",
      "  566 ?        Ss     0:00 avahi-daemon: running [TaboukDawlawi.local]\n",
      "  568 ?        Ss     0:00 /lib/systemd/systemd-logind\n",
      "  569 ?        Ssl    0:00 /usr/sbin/NetworkManager --no-daemon\n",
      "  573 ?        Ssl    0:01 /usr/lib/udisks2/udisksd\n",
      "  574 ?        Ss     0:00 /usr/sbin/irqbalance --foreground\n",
      "  576 ?        Ssl    0:00 /usr/lib/accountsservice/accounts-daemon\n",
      "  577 ?        S      0:00 avahi-daemon: chroot helper\n",
      "  612 ?        Ssl    0:00 /usr/lib/policykit-1/polkitd --no-debug\n",
      "  668 ?        Ssl    0:00 /usr/sbin/gdm3\n",
      "  669 ?        Ss     0:00 /usr/sbin/sshd -D\n",
      "  673 ?        Sl     0:00 gdm-session-worker [pam/gdm-launch-environment]\n",
      "  678 ?        Ss     0:15 /usr/bin/tor --defaults-torrc /usr/share/tor/tor-serv\n",
      "  685 ?        Ss     0:00 /sbin/wpa_supplicant -u -s -O /run/wpa_supplicant\n",
      "  686 ?        Ss     0:00 /lib/systemd/systemd --user\n",
      "  687 ?        S      0:00 /sbin/dhclient -d -q -sf /usr/lib/NetworkManager/nm-d\n",
      "  688 ?        S      0:00 (sd-pam)\n",
      "  702 tty1     Ssl+   0:00 /usr/lib/gdm3/gdm-wayland-session gnome-session --aut\n",
      "  704 ?        Ss     0:00 /usr/bin/dbus-daemon --session --address=systemd: --n\n",
      "  706 tty1     Sl+    0:00 /usr/lib/gnome-session/gnome-session-binary --autosta\n",
      "  713 tty1     Sl+    0:05 /usr/bin/gnome-shell\n",
      "  735 ?        Ss     0:00 /usr/sbin/minissdpd -i 0.0.0.0\n",
      "  743 ?        Ssl    0:00 /usr/lib/upower/upowerd\n",
      "  812 tty1     Sl+    0:00 /usr/bin/Xwayland :1024 -rootless -noreset -listen 4 \n",
      "  819 ?        Ssl    0:00 /usr/lib/at-spi2-core/at-spi-bus-launcher\n",
      "  824 ?        S      0:00 /usr/bin/dbus-daemon --config-file=/usr/share/default\n",
      "  826 ?        Sl     0:00 /usr/lib/at-spi2-core/at-spi2-registryd --use-gnome-s\n",
      "  830 ?        Ssl    0:00 /usr/bin/pulseaudio --daemonize=no\n",
      "  831 ?        SNsl   0:00 /usr/lib/rtkit/rtkit-daemon\n",
      "  836 ?        Ss     0:00 /usr/lib/bluetooth/bluetoothd\n",
      "  845 ?        Ssl    0:00 /usr/lib/geoclue-2.0/geoclue -t 5\n",
      "  846 tty1     Sl+    0:00 /usr/lib/gnome-settings-daemon/gsd-wacom\n",
      "  848 tty1     Sl+    0:00 /usr/lib/gnome-settings-daemon/gsd-xsettings\n",
      "  849 ?        Ssl    0:00 /usr/lib/packagekit/packagekitd\n",
      "  850 tty1     Sl+    0:00 /usr/lib/gnome-settings-daemon/gsd-a11y-keyboard\n",
      "  854 tty1     Sl+    0:00 /usr/lib/gnome-settings-daemon/gsd-a11y-settings\n",
      "  855 tty1     Sl+    0:00 /usr/lib/gnome-settings-daemon/gsd-clipboard\n",
      "  857 tty1     Sl+    0:01 /usr/lib/gnome-settings-daemon/gsd-color\n",
      "  859 tty1     Sl+    0:00 /usr/lib/gnome-settings-daemon/gsd-datetime\n",
      "  864 tty1     Sl+    0:00 /usr/lib/gnome-settings-daemon/gsd-housekeeping\n",
      "  867 tty1     Sl+    0:00 /usr/lib/gnome-settings-daemon/gsd-keyboard\n",
      "  868 tty1     Sl+    0:00 /usr/lib/gnome-settings-daemon/gsd-media-keys\n",
      "  869 tty1     Sl+    0:00 /usr/lib/gnome-settings-daemon/gsd-mouse\n",
      "  870 tty1     Sl+    0:00 /usr/lib/gnome-settings-daemon/gsd-power\n",
      "  873 tty1     Sl+    0:00 /usr/lib/gnome-settings-daemon/gsd-print-notification\n",
      "  874 tty1     Sl+    0:00 /usr/lib/gnome-settings-daemon/gsd-rfkill\n",
      "  875 tty1     Sl+    0:00 /usr/lib/gnome-settings-daemon/gsd-screensaver-proxy\n",
      "  877 tty1     Sl+    0:00 /usr/lib/gnome-settings-daemon/gsd-sharing\n",
      "  882 tty1     Sl+    0:00 /usr/lib/gnome-settings-daemon/gsd-smartcard\n",
      "  886 tty1     Sl+    0:00 /usr/lib/gnome-settings-daemon/gsd-sound\n",
      "  940 ?        Ssl    0:00 /usr/lib/colord/colord\n",
      "  956 ?        Sl     0:00 /usr/lib/dconf/dconf-service\n",
      "  969 ?        Sl     0:00 gdm-session-worker [pam/gdm-password]\n",
      "  973 ?        Ss     0:00 /lib/systemd/systemd --user\n",
      "  974 ?        S      0:00 (sd-pam)\n",
      "  986 ?        SLl    0:00 /usr/bin/gnome-keyring-daemon --daemonize --login\n",
      "  990 tty2     Ssl+   0:00 /usr/lib/gdm3/gdm-x-session --run-script mate-session\n",
      "  992 tty2     Sl+    3:07 /usr/lib/xorg/Xorg vt2 -displayfd 3 -auth /run/user/1\n",
      "  998 ?        Ss     0:00 /usr/bin/dbus-daemon --session --address=systemd: --n\n",
      " 1000 tty2     Sl+    0:00 mate-session\n",
      " 1062 ?        Ss     0:00 /usr/bin/ssh-agent mate-session\n",
      " 1063 ?        Ssl    0:00 /usr/lib/at-spi2-core/at-spi-bus-launcher\n",
      " 1068 ?        S      0:00 /usr/bin/dbus-daemon --config-file=/usr/share/default\n",
      " 1071 ?        Sl     0:02 /usr/lib/at-spi2-core/at-spi2-registryd --use-gnome-s\n",
      " 1076 ?        Sl     0:00 /usr/lib/dconf/dconf-service\n",
      " 1083 tty2     Sl+    0:04 /usr/bin/mate-settings-daemon\n",
      " 1087 tty2     Sl+    0:23 marco\n",
      " 1091 tty2     Sl+    0:06 mate-panel\n",
      " 1095 ?        Ssl    0:00 /usr/lib/gvfs/gvfsd\n",
      " 1100 ?        Sl     0:00 /usr/lib/gvfs/gvfsd-fuse /run/user/1000/gvfs -f -o bi\n",
      " 1115 tty2     Sl+    0:01 caja\n",
      " 1118 ?        S<l    0:00 /usr/bin/pulseaudio --start --log-target=syslog\n",
      " 1121 ?        Sl     0:17 /usr/lib/mate-panel/wnck-applet\n",
      " 1127 ?        Ssl    0:00 /usr/lib/gvfs/gvfs-udisks2-volume-monitor\n",
      " 1131 tty2     Sl+    0:01 mate-power-manager\n",
      " 1137 ?        Ssl    0:00 /usr/lib/gvfs/gvfs-gphoto2-volume-monitor\n",
      " 1146 tty2     Sl+    0:00 nm-applet\n",
      " 1161 ?        Ssl    0:00 /usr/lib/gvfs/gvfs-mtp-volume-monitor\n",
      " 1166 tty2     Sl+    0:00 mate-volume-control-applet\n",
      " 1168 tty2     Sl+    0:00 /usr/lib/x86_64-linux-gnu/polkit-mate/polkit-mate-aut\n",
      " 1171 tty2     Sl+    0:03 mate-screensaver\n",
      " 1173 ?        Ssl    0:00 /usr/lib/gvfs/gvfs-afc-volume-monitor\n",
      " 1176 tty2     Sl+    0:00 /usr/lib/evolution/evolution-alarm-notify\n",
      " 1193 ?        Ssl    0:00 /usr/lib/gvfs/gvfs-goa-volume-monitor\n",
      " 1208 ?        Sl     0:00 /usr/lib/gnome-online-accounts/goa-daemon\n",
      " 1218 ?        Sl     0:00 /usr/lib/gnome-online-accounts/goa-identity-service\n",
      " 1221 ?        Ssl    0:00 /usr/lib/telepathy/mission-control-5\n",
      " 1225 ?        Sl     0:00 /usr/lib/mate-panel/notification-area-applet\n",
      " 1226 ?        Sl     0:00 /usr/lib/mate-panel/clock-applet\n",
      " 1239 ?        Sl     0:00 /usr/lib/gvfs/gvfsd-trash --spawner :1.18 /org/gtk/gv\n",
      " 1257 ?        Ssl    0:00 /usr/lib/evolution/evolution-source-registry\n",
      " 1263 ?        Ssl    0:00 /usr/lib/evolution/evolution-calendar-factory\n",
      " 1287 ?        Sl     0:00 /usr/lib/evolution/evolution-calendar-factory-subproc\n",
      " 1298 ?        Sl     0:00 /usr/lib/evolution/evolution-calendar-factory-subproc\n",
      " 1310 ?        Ssl    0:00 /usr/lib/evolution/evolution-addressbook-factory\n",
      " 1321 ?        Sl     0:00 /usr/lib/evolution/evolution-addressbook-factory-subp\n",
      " 1341 ?        Ssl    0:00 /usr/lib/gvfs/gvfsd-metadata\n",
      " 1350 tty2     SLl+   6:50 /usr/lib/chromium/chromium --show-component-extension\n",
      " 1368 tty2     S+     0:00 /usr/lib/chromium/chrome-sandbox /usr/lib/chromium/ch\n",
      " 1369 tty2     S+     0:00 /usr/lib/chromium/chromium --type=zygote --ppapi-flas\n",
      " 1371 tty2     S+     0:00 /usr/lib/chromium/chromium --type=zygote --ppapi-flas\n",
      " 1412 tty2     Sl+    2:36 /usr/lib/chromium/chromium --type=gpu-process --field\n",
      " 1418 tty2     S+     0:00 /usr/lib/chromium/chromium --type=gpu-broker\n",
      " 1479 tty2     Sl+    0:28 /usr/lib/chromium/chromium --type=renderer --field-tr\n",
      " 1534 tty2     Sl+    0:00 /usr/lib/chromium/chromium --type=renderer --field-tr\n",
      " 1537 tty2     Sl+    0:08 /usr/lib/chromium/chromium --type=renderer --field-tr\n",
      " 1543 tty2     Sl+    0:16 /usr/lib/chromium/chromium --type=renderer --field-tr\n",
      " 1591 tty2     Sl+    0:19 /usr/lib/chromium/chromium --type=renderer --field-tr\n",
      " 1629 tty2     Sl+    0:00 /usr/lib/chromium/chromium --type=renderer --field-tr\n",
      " 1666 tty2     Sl+    0:00 /usr/bin/python3 /usr/bin/chrome-gnome-shell chrome-e\n",
      " 1669 tty2     Sl+    0:05 /usr/lib/chromium/chromium --type=renderer --field-tr\n",
      " 1702 tty2     Sl+    0:06 /usr/lib/chromium/chromium --type=renderer --field-tr\n",
      " 1717 tty2     Sl+    0:35 /usr/lib/chromium/chromium --type=renderer --field-tr\n",
      " 1742 tty2     Sl+    0:01 /usr/lib/chromium/chromium --type=renderer --field-tr\n",
      " 1799 tty2     Sl+    0:39 /usr/lib/chromium/chromium --type=renderer --field-tr\n",
      " 1820 tty2     Sl+    0:00 /usr/lib/chromium/chromium --type=renderer --field-tr\n",
      " 1832 tty2     Sl+    0:00 /usr/lib/chromium/chromium --type=renderer --field-tr\n",
      " 1844 tty2     Sl+    0:00 /usr/lib/chromium/chromium --type=renderer --field-tr\n",
      " 1857 tty2     Sl+    0:20 /usr/lib/chromium/chromium --type=renderer --field-tr\n",
      " 1876 tty2     Sl+    0:01 /usr/lib/chromium/chromium --type=renderer --field-tr\n",
      " 1889 tty2     Sl+    0:05 /usr/lib/chromium/chromium --type=ppapi --field-trial\n",
      " 1899 tty2     Sl+    0:00 /usr/lib/chromium/chromium --type=renderer --field-tr\n",
      " 1915 tty2     Sl+    0:01 /usr/lib/chromium/chromium --type=renderer --field-tr\n",
      " 1941 tty2     Sl+    0:23 /usr/lib/chromium/chromium --type=renderer --field-tr\n",
      " 1952 tty2     Sl+    0:00 /usr/lib/chromium/chromium --type=renderer --field-tr\n",
      " 1966 tty2     Sl+    0:01 /usr/lib/chromium/chromium --type=renderer --field-tr\n",
      " 1990 tty2     Sl+    0:00 /usr/lib/chromium/chromium --type=renderer --field-tr\n",
      " 2033 tty2     Sl+    0:00 /usr/lib/chromium/chromium --type=renderer --field-tr\n",
      " 2045 tty2     Sl+    0:01 /usr/lib/chromium/chromium --type=renderer --field-tr\n",
      " 2061 tty2     Sl+    0:20 /usr/lib/chromium/chromium --type=renderer --field-tr\n",
      " 2087 tty2     Sl+    0:58 /usr/lib/chromium/chromium --type=renderer --field-tr\n",
      " 2113 tty2     Sl+    2:57 /usr/lib/chromium/chromium --type=renderer --field-tr\n",
      " 2129 tty2     Sl+    0:01 /usr/lib/chromium/chromium --type=renderer --field-tr\n",
      " 2361 tty2     Sl+    0:41 mate-terminal\n",
      " 2369 pts/0    Ss     0:00 bash\n",
      " 2410 ?        Sl     0:00 /usr/lib/gvfs/gvfsd-burn --spawner :1.18 /org/gtk/gvf\n",
      " 2463 pts/1    Ss     0:00 bash\n",
      " 2468 pts/1    S      0:00 su\n",
      " 2469 pts/1    S+     0:00 bash\n",
      " 2634 ?        Sl     0:00 /usr/lib/gvfs/gvfsd-http --spawner :1.18 /org/gtk/gvf\n",
      " 2739 tty2     Sl+    2:36 /usr/lib/chromium/chromium --type=renderer --field-tr\n",
      " 2768 ?        Sl     0:13 /usr/bin/nautilus --gapplication-service\n",
      " 2806 ?        S      0:00 [kworker/1:1]\n",
      " 2906 ?        Sl     0:00 /usr/lib/atril/atrild\n",
      " 2946 ?        Sl     0:10 atril /home/kiad/csResearch/cas/teaching/ipython/SIAM\n",
      " 2958 ?        Sl     0:00 /usr/lib/x86_64-linux-gnu/webkit2gtk-4.0/WebKitNetwor\n",
      " 3033 ?        Sl     0:00 /usr/lib/gvfs/gvfsd-network --spawner :1.18 /org/gtk/\n",
      " 3058 ?        Sl     0:00 /usr/lib/gvfs/gvfsd-dnssd --spawner :1.18 /org/gtk/gv\n",
      " 3070 ?        Sl     0:02 atril /home/kiad/csResearch/cas/teaching/ipython/pyco\n",
      " 3082 ?        Sl     0:00 /usr/lib/x86_64-linux-gnu/webkit2gtk-4.0/WebKitNetwor\n",
      " 3140 tty2     Sl+    0:08 /usr/lib/chromium/chromium --type=renderer --field-tr\n",
      " 3278 tty2     Sl+    0:00 /usr/lib/libreoffice/program/oosplash --math\n",
      " 3297 tty2     Sl+    0:43 /usr/lib/libreoffice/program/soffice.bin --math --spl\n",
      " 3306 tty2     Sl+    0:00 /usr/lib/libreoffice/program/oosplash --writer\n",
      " 3482 pts/2    Ss     0:00 bash\n",
      " 5453 tty2     Sl+    0:03 /usr/lib/chromium/chromium --type=renderer --field-tr\n",
      " 7852 tty2     Sl+    0:03 /usr/lib/chromium/chromium --type=renderer --field-tr\n",
      " 8842 ?        Ssl    0:00 /usr/sbin/ModemManager\n",
      " 9180 pts/3    Ss+    0:00 bash\n",
      " 9353 tty2     Sl+    0:01 /usr/lib/chromium/chromium --type=renderer --field-tr\n",
      "10498 ?        S      0:00 [kworker/2:1]\n",
      "10615 ?        S      0:00 [kworker/1:0]\n",
      "11922 ?        S      0:00 [kworker/3:2]\n",
      "14735 tty2     Sl+    0:01 /usr/lib/chromium/chromium --type=renderer --field-tr\n",
      "14858 ?        S      0:00 [kworker/u8:1]\n",
      "14860 pts/2    Sl+    0:08 /home/kiad/Atelier/EmulPy/bin/python3 /home/kiad/Atel\n",
      "14975 tty2     Sl+    3:09 /usr/lib/chromium/chromium --type=renderer --field-tr\n",
      "15057 ?        D      0:00 [kworker/u8:0]\n",
      "15097 ?        Ssl    0:07 /opt/sublime_text/sublime_text\n",
      "15108 ?        Sl     0:00 /opt/sublime_text/plugin_host 15097\n",
      "15132 ?        Ssl    0:00 /home/kiad/Atelier/EmulPy/bin/python -m ipykernel_lau\n",
      "15188 ?        Ssl    0:05 /home/kiad/Atelier/EmulPy/bin/python -m ipykernel_lau\n",
      "15209 ?        S      0:00 [kworker/0:1]\n",
      "15250 ?        S      0:00 [kworker/0:2]\n",
      "15264 tty2     Sl+    0:04 /usr/lib/chromium/chromium --type=renderer --field-tr\n",
      "15328 ?        S      0:00 [kworker/3:1]\n",
      "15394 ?        S      0:00 [kworker/u8:2]\n",
      "15399 ?        S      0:00 [kworker/0:0]\n",
      "15401 pts/0    Sl+    0:01 /home/kiad/Atelier/EmulPy/bin/python3 /home/kiad/Atel\n",
      "15514 tty2     Rl+    0:37 /usr/lib/chromium/chromium --type=renderer --field-tr\n",
      "15579 ?        S      0:00 [kworker/3:0]\n",
      "15587 ?        Ssl    0:00 /usr/bin/python -m ipykernel_launcher -f /run/user/10\n",
      "15604 pts/4    Ss+    0:00 /bin/sh -c  ps -ax\n",
      "15605 pts/4    R+     0:00 ps -ax\n"
     ]
    }
   ],
   "source": [
    "! ps -ax"
   ]
  },
  {
   "cell_type": "markdown",
   "metadata": {
    "slideshow": {
     "slide_type": "slide"
    }
   },
   "source": [
    "## Pour terminer...\n",
    "\n",
    "_Mentionnons quelques autres fonctionnalités utiles :_"
   ]
  },
  {
   "cell_type": "markdown",
   "metadata": {
    "slideshow": {
     "slide_type": "subslide"
    }
   },
   "source": [
    "- En mode édition, bordures vertes, lorsque le curseur est en début de ligne ou lorsque vous avez sélectionné du texte, l'appui sur la touche `<Tab>` (respectivement `<Shift-TAB>`) indente (respectivement désindente) les lignes correspondantes.\n",
    "- La touche `<ESC>` passe en mode commande, les bordures sont alors bleues. Notez bien que dans ce mode, certaines touches du clavier sont associées à des actions sur le notebook. Tenter de saisir du texte dans ce mode peut donc produire des effets inattendus.\n",
    "- Le bouton <button class='fa fa-command icon-command btn  btn-xs btn-default'></button>`[open the command palette]` affiche une fenêtre qui liste l'ensemble des commandes.\n"
   ]
  },
  {
   "cell_type": "markdown",
   "metadata": {
    "slideshow": {
     "slide_type": "subslide"
    }
   },
   "source": [
    "- Pour **créer vos propres notebooks**, utilisez le bouton `[New Notebook]` dans la première fenêtre \"jupyter Dashboard\", ou faites `File>New` depuis n'importe quelle fenêtre de notebook. N'oubliez ensuite pas de donner un nom de fichier à votre notebook en cliquant dans le champ \"Untitled\" au haut de la fenêtre du nouveau notebook\n",
    "- Pour **effacer tous les outputs** d'un notebook, vous pouvez faire `Cell>All Output>Clear`"
   ]
  },
  {
   "cell_type": "markdown",
   "metadata": {
    "slideshow": {
     "slide_type": "subslide"
    }
   },
   "source": [
    "- Si jupyter Notebook semble bloqué, c'est surement qu'il **tourne indéfiniment** en raison par exemple d'une boucle mal contrôlée (consommant 100% de CPU d'1 core de votre machine). Vous deviez voir le message \"Kernel busy\" au haut de l'écran. Pour l'**interrompre**, cliquez sur le bouton <button class='fa fa-stop icon-stop btn  btn-xs btn-default'></button> (ou menu `Kernel>Interrupt`). Si ça ne fonctionne vraiment pas, il faudra se résoudre à tuer le serveur web avec `<ctrl-C>`\n"
   ]
  },
  {
   "cell_type": "markdown",
   "metadata": {
    "slideshow": {
     "slide_type": "subslide"
    }
   },
   "source": [
    "- Sous `Help>Keyboard Shortcuts` vous trouverez la liste des nombreux **raccourcis clavier** améliorant grandement l'efficacité d'utilisation de jupyter Notebook !\n",
    "- Sous `Help>Notebook Help` vous accéderez à la **documentation** complète de jupiter Notebook."
   ]
  },
  {
   "cell_type": "markdown",
   "metadata": {
    "slideshow": {
     "slide_type": "slide"
    }
   },
   "source": [
    "<a rel=\"license\" href=\"http://creativecommons.org/licenses/by-sa/4.0/\"><img alt=\"Licence Creative Commons\" style=\"border-width:0\" src=\"https://i.creativecommons.org/l/by-sa/4.0/88x31.png\" /></a><br />Ce document adapté d'un travail de <Jean-Daniel.Bonjour@epfl.ch> est mis à disposition selon les termes de la <a rel=\"license\" href=\"http://creativecommons.org/licenses/by-sa/4.0/\">Licence Creative Commons Attribution -  Partage dans les Mêmes Conditions 4.0 International</a>.\n",
    "Pour toute question : <a href=\"mailto:eric.madec@ecmorlaix.fr\">eric.madec@ecmorlaix.fr</a>"
   ]
  }
 ],
 "metadata": {
  "kernelspec": {
   "display_name": "Python 2",
   "language": "python",
   "name": "python2"
  },
  "language_info": {
   "codemirror_mode": {
    "name": "ipython",
    "version": 2
   },
   "file_extension": ".py",
   "mimetype": "text/x-python",
   "name": "python",
   "nbconvert_exporter": "python",
   "pygments_lexer": "ipython2",
   "version": "2.7.14+"
  }
 },
 "nbformat": 4,
 "nbformat_minor": 2
}
