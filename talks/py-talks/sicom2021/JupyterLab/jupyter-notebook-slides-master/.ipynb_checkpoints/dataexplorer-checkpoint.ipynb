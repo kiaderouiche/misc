{
 "cells": [
  {
   "cell_type": "code",
   "execution_count": 1,
   "metadata": {},
   "outputs": [],
   "source": [
    "import pandas as pd\n",
    "import numpy as np"
   ]
  },
  {
   "cell_type": "code",
   "execution_count": 6,
   "metadata": {},
   "outputs": [
    {
     "name": "stdout",
     "output_type": "stream",
     "text": [
      "'/home/kiad/Atelier/workspace/DOSSIER KAMEL/FICHIER INV-STK-17.xlsx'\r\n"
     ]
    }
   ],
   "source": [
    "%ls /home/kiad/Atelier/workspace/'DOSSIER KAMEL'/'FICHIER INV-STK-17.xlsx'"
   ]
  },
  {
   "cell_type": "code",
   "execution_count": 2,
   "metadata": {},
   "outputs": [],
   "source": [
    "df = pd.read_excel('/home/kiad/Atelier/workspace/DOSSIER KAMEL/FICHIER INV-STK-17.xlsx', dtype={\"Référence\":str})"
   ]
  },
  {
   "cell_type": "code",
   "execution_count": 3,
   "metadata": {},
   "outputs": [],
   "source": [
    "df['Localisa.'] = df['Localisa.'].astype(object)"
   ]
  },
  {
   "cell_type": "code",
   "execution_count": 4,
   "metadata": {},
   "outputs": [
    {
     "data": {
      "text/html": [
       "<div>\n",
       "<style scoped>\n",
       "    .dataframe tbody tr th:only-of-type {\n",
       "        vertical-align: middle;\n",
       "    }\n",
       "\n",
       "    .dataframe tbody tr th {\n",
       "        vertical-align: top;\n",
       "    }\n",
       "\n",
       "    .dataframe thead th {\n",
       "        text-align: right;\n",
       "    }\n",
       "</style>\n",
       "<table border=\"1\" class=\"dataframe\">\n",
       "  <thead>\n",
       "    <tr style=\"text-align: right;\">\n",
       "      <th></th>\n",
       "      <th>N°</th>\n",
       "      <th>Référence</th>\n",
       "      <th>Localisa.</th>\n",
       "      <th>Libellé-2017</th>\n",
       "      <th>Prix Unit-17</th>\n",
       "      <th>QTIT_R</th>\n",
       "      <th>QTIT_S</th>\n",
       "      <th>Montant-17</th>\n",
       "    </tr>\n",
       "  </thead>\n",
       "  <tbody>\n",
       "    <tr>\n",
       "      <th>0</th>\n",
       "      <td>1</td>\n",
       "      <td>1428543692</td>\n",
       "      <td>NaN</td>\n",
       "      <td>NOTICE D'UTILISATION</td>\n",
       "      <td>1337.20</td>\n",
       "      <td>1</td>\n",
       "      <td>1.0</td>\n",
       "      <td>1337.20</td>\n",
       "    </tr>\n",
       "    <tr>\n",
       "      <th>1</th>\n",
       "      <td>2</td>\n",
       "      <td>6327651204</td>\n",
       "      <td>NaN</td>\n",
       "      <td>VIS A TETE BOMBEE</td>\n",
       "      <td>29.37</td>\n",
       "      <td>22</td>\n",
       "      <td>22.0</td>\n",
       "      <td>646.14</td>\n",
       "    </tr>\n",
       "    <tr>\n",
       "      <th>2</th>\n",
       "      <td>3</td>\n",
       "      <td>6327651211</td>\n",
       "      <td>NaN</td>\n",
       "      <td>VIS A TETE BOMBEE</td>\n",
       "      <td>81.58</td>\n",
       "      <td>17</td>\n",
       "      <td>17.0</td>\n",
       "      <td>1386.86</td>\n",
       "    </tr>\n",
       "  </tbody>\n",
       "</table>\n",
       "</div>"
      ],
      "text/plain": [
       "   N°   Référence Localisa.          Libellé-2017  Prix Unit-17 QTIT_R  \\\n",
       "0   1  1428543692       NaN  NOTICE D'UTILISATION       1337.20      1   \n",
       "1   2  6327651204       NaN     VIS A TETE BOMBEE         29.37     22   \n",
       "2   3  6327651211       NaN     VIS A TETE BOMBEE         81.58     17   \n",
       "\n",
       "   QTIT_S  Montant-17  \n",
       "0     1.0     1337.20  \n",
       "1    22.0      646.14  \n",
       "2    17.0     1386.86  "
      ]
     },
     "execution_count": 4,
     "metadata": {},
     "output_type": "execute_result"
    }
   ],
   "source": [
    "df.head(3)"
   ]
  },
  {
   "cell_type": "code",
   "execution_count": 52,
   "metadata": {},
   "outputs": [
    {
     "data": {
      "text/plain": [
       "array([dtype('int64'), dtype('O'), dtype('float64')], dtype=object)"
      ]
     },
     "execution_count": 52,
     "metadata": {},
     "output_type": "execute_result"
    }
   ],
   "source": [
    "df.dtypes.unique()"
   ]
  },
  {
   "cell_type": "code",
   "execution_count": 65,
   "metadata": {},
   "outputs": [
    {
     "data": {
      "text/html": [
       "<div>\n",
       "<style scoped>\n",
       "    .dataframe tbody tr th:only-of-type {\n",
       "        vertical-align: middle;\n",
       "    }\n",
       "\n",
       "    .dataframe tbody tr th {\n",
       "        vertical-align: top;\n",
       "    }\n",
       "\n",
       "    .dataframe thead th {\n",
       "        text-align: right;\n",
       "    }\n",
       "</style>\n",
       "<table border=\"1\" class=\"dataframe\">\n",
       "  <thead>\n",
       "    <tr style=\"text-align: right;\">\n",
       "      <th></th>\n",
       "      <th>N°</th>\n",
       "      <th>Référence</th>\n",
       "      <th>Localisa.</th>\n",
       "      <th>Libelle_2017</th>\n",
       "      <th>Prix Unit-17</th>\n",
       "      <th>QTIT_R</th>\n",
       "      <th>QTIT_S</th>\n",
       "      <th>Montant-17</th>\n",
       "    </tr>\n",
       "  </thead>\n",
       "  <tbody>\n",
       "    <tr>\n",
       "      <th>0</th>\n",
       "      <td>1</td>\n",
       "      <td>1428543692</td>\n",
       "      <td>NaN</td>\n",
       "      <td>NOTICE D'UTILISATION</td>\n",
       "      <td>1337.20</td>\n",
       "      <td>1.0</td>\n",
       "      <td>1.0</td>\n",
       "      <td>1337.20</td>\n",
       "    </tr>\n",
       "    <tr>\n",
       "      <th>1</th>\n",
       "      <td>2</td>\n",
       "      <td>6327651204</td>\n",
       "      <td>NaN</td>\n",
       "      <td>VIS A TETE BOMBEE</td>\n",
       "      <td>29.37</td>\n",
       "      <td>22.0</td>\n",
       "      <td>22.0</td>\n",
       "      <td>646.14</td>\n",
       "    </tr>\n",
       "    <tr>\n",
       "      <th>2</th>\n",
       "      <td>3</td>\n",
       "      <td>6327651211</td>\n",
       "      <td>NaN</td>\n",
       "      <td>VIS A TETE BOMBEE</td>\n",
       "      <td>81.58</td>\n",
       "      <td>17.0</td>\n",
       "      <td>17.0</td>\n",
       "      <td>1386.86</td>\n",
       "    </tr>\n",
       "  </tbody>\n",
       "</table>\n",
       "</div>"
      ],
      "text/plain": [
       "   N°   Référence Localisa.          Libelle_2017  Prix Unit-17  QTIT_R  \\\n",
       "0   1  1428543692       NaN  NOTICE D'UTILISATION       1337.20     1.0   \n",
       "1   2  6327651204       NaN     VIS A TETE BOMBEE         29.37    22.0   \n",
       "2   3  6327651211       NaN     VIS A TETE BOMBEE         81.58    17.0   \n",
       "\n",
       "   QTIT_S  Montant-17  \n",
       "0     1.0     1337.20  \n",
       "1    22.0      646.14  \n",
       "2    17.0     1386.86  "
      ]
     },
     "execution_count": 65,
     "metadata": {},
     "output_type": "execute_result"
    }
   ],
   "source": [
    "\n",
    "df.rename(columns={'Libellé-2017':'Libelle_2017'}, inplace=True)\n",
    "df.head(3)"
   ]
  },
  {
   "cell_type": "code",
   "execution_count": 58,
   "metadata": {},
   "outputs": [
    {
     "ename": "SyntaxError",
     "evalue": "invalid syntax (<ipython-input-58-0b12c6adb70a>, line 1)",
     "output_type": "error",
     "traceback": [
      "\u001b[0;36m  File \u001b[0;32m\"<ipython-input-58-0b12c6adb70a>\"\u001b[0;36m, line \u001b[0;32m1\u001b[0m\n\u001b[0;31m    df[df.\"Libellé-2017\" == 'VIS'].groupby('Montant-17').filter(lambda g: len(g) > 1000).groupby('Montant-17').size()\u001b[0m\n\u001b[0m                       ^\u001b[0m\n\u001b[0;31mSyntaxError\u001b[0m\u001b[0;31m:\u001b[0m invalid syntax\n"
     ]
    }
   ],
   "source": [
    "df[df.Libelle_2017 == 'VIS'].groupby('Montant-17').filter(lambda g: len(g) > 1000).groupby('Montant-17').size()"
   ]
  },
  {
   "cell_type": "code",
   "execution_count": 74,
   "metadata": {},
   "outputs": [],
   "source": [
    "raw_data= {'id': [1, 2], 'name': ['Harry Potter', 'Ron Weasley']}\n",
    "df1 = pd.DataFrame(raw_data, columns=['id', 'name'])\n",
    "raw_data= {'id': [3], 'name': ['Hermione Granger']}\n",
    "df2 = pd.DataFrame(raw_data, columns= ['id', 'name'])"
   ]
  },
  {
   "cell_type": "code",
   "execution_count": 75,
   "metadata": {},
   "outputs": [
    {
     "data": {
      "text/html": [
       "<div>\n",
       "<style scoped>\n",
       "    .dataframe tbody tr th:only-of-type {\n",
       "        vertical-align: middle;\n",
       "    }\n",
       "\n",
       "    .dataframe tbody tr th {\n",
       "        vertical-align: top;\n",
       "    }\n",
       "\n",
       "    .dataframe thead th {\n",
       "        text-align: right;\n",
       "    }\n",
       "</style>\n",
       "<table border=\"1\" class=\"dataframe\">\n",
       "  <thead>\n",
       "    <tr style=\"text-align: right;\">\n",
       "      <th></th>\n",
       "      <th>id</th>\n",
       "      <th>name</th>\n",
       "    </tr>\n",
       "  </thead>\n",
       "  <tbody>\n",
       "    <tr>\n",
       "      <th>0</th>\n",
       "      <td>3</td>\n",
       "      <td>Hermione Granger</td>\n",
       "    </tr>\n",
       "  </tbody>\n",
       "</table>\n",
       "</div>"
      ],
      "text/plain": [
       "   id              name\n",
       "0   3  Hermione Granger"
      ]
     },
     "execution_count": 75,
     "metadata": {},
     "output_type": "execute_result"
    }
   ],
   "source": [
    "df1\n",
    "df2"
   ]
  },
  {
   "cell_type": "code",
   "execution_count": 71,
   "metadata": {},
   "outputs": [
    {
     "data": {
      "text/html": [
       "<div>\n",
       "<style scoped>\n",
       "    .dataframe tbody tr th:only-of-type {\n",
       "        vertical-align: middle;\n",
       "    }\n",
       "\n",
       "    .dataframe tbody tr th {\n",
       "        vertical-align: top;\n",
       "    }\n",
       "\n",
       "    .dataframe thead th {\n",
       "        text-align: right;\n",
       "    }\n",
       "</style>\n",
       "<table border=\"1\" class=\"dataframe\">\n",
       "  <thead>\n",
       "    <tr style=\"text-align: right;\">\n",
       "      <th></th>\n",
       "      <th>id</th>\n",
       "      <th>name</th>\n",
       "    </tr>\n",
       "  </thead>\n",
       "  <tbody>\n",
       "    <tr>\n",
       "      <th>0</th>\n",
       "      <td>1</td>\n",
       "      <td>Harry Potter</td>\n",
       "    </tr>\n",
       "    <tr>\n",
       "      <th>1</th>\n",
       "      <td>2</td>\n",
       "      <td>Ron Weasley</td>\n",
       "    </tr>\n",
       "  </tbody>\n",
       "</table>\n",
       "</div>"
      ],
      "text/plain": [
       "   id          name\n",
       "0   1  Harry Potter\n",
       "1   2   Ron Weasley"
      ]
     },
     "execution_count": 71,
     "metadata": {},
     "output_type": "execute_result"
    }
   ],
   "source": [
    "df1"
   ]
  },
  {
   "cell_type": "code",
   "execution_count": 5,
   "metadata": {},
   "outputs": [],
   "source": [
    "df.reset_index(drop=True, inplace=True)"
   ]
  },
  {
   "cell_type": "code",
   "execution_count": 6,
   "metadata": {},
   "outputs": [
    {
     "data": {
      "text/plain": [
       "0         1.0\n",
       "1        22.0\n",
       "2        17.0\n",
       "3        31.0\n",
       "4        16.0\n",
       "5        40.0\n",
       "6         7.0\n",
       "7       125.0\n",
       "8         3.0\n",
       "9        17.0\n",
       "10       51.0\n",
       "11       12.0\n",
       "12       10.0\n",
       "13       20.0\n",
       "14        6.0\n",
       "15        1.0\n",
       "16        5.0\n",
       "17        5.0\n",
       "18       50.0\n",
       "19       42.0\n",
       "20        4.0\n",
       "21      112.0\n",
       "22       27.0\n",
       "23       10.0\n",
       "24       44.0\n",
       "25       10.0\n",
       "26        8.0\n",
       "27       10.0\n",
       "28       10.0\n",
       "29        1.0\n",
       "        ...  \n",
       "1941      2.0\n",
       "1942      1.0\n",
       "1943      1.0\n",
       "1944      4.0\n",
       "1945      4.0\n",
       "1946      1.0\n",
       "1947      1.0\n",
       "1948      1.0\n",
       "1949      2.0\n",
       "1950      3.0\n",
       "1951      2.0\n",
       "1952      1.0\n",
       "1953      1.0\n",
       "1954      1.0\n",
       "1955      1.0\n",
       "1956      1.0\n",
       "1957      1.0\n",
       "1958      1.0\n",
       "1959      1.0\n",
       "1960     10.0\n",
       "1961      1.0\n",
       "1962      1.0\n",
       "1963      1.0\n",
       "1964      1.0\n",
       "1965      1.0\n",
       "1966      2.0\n",
       "1967      1.0\n",
       "1968      1.0\n",
       "1969      5.0\n",
       "1970      1.0\n",
       "Name: QTIT_S, Length: 1971, dtype: float64"
      ]
     },
     "execution_count": 6,
     "metadata": {},
     "output_type": "execute_result"
    }
   ],
   "source": [
    "df['QTIT_S']"
   ]
  },
  {
   "cell_type": "code",
   "execution_count": 7,
   "metadata": {},
   "outputs": [],
   "source": [
    "from IPython.core.display import display, HTML\n",
    "from string import Template\n",
    "import json"
   ]
  },
  {
   "cell_type": "code",
   "execution_count": 8,
   "metadata": {},
   "outputs": [
    {
     "data": {
      "text/html": [
       "<div id=\"mynetwork\"></div>"
      ],
      "text/plain": [
       "<IPython.core.display.HTML object>"
      ]
     },
     "metadata": {},
     "output_type": "display_data"
    }
   ],
   "source": [
    "%%html\n",
    "<div id=\"mynetwork\"></div>"
   ]
  },
  {
   "cell_type": "code",
   "execution_count": 10,
   "metadata": {},
   "outputs": [
    {
     "data": {
      "application/javascript": [
       "requirejs.config({\n",
       "    paths: {\n",
       "        vis: 'vis'\n",
       "    }\n",
       "});\n",
       "\n",
       "require(['vis'], function(vis){\n",
       "    \n",
       "    var nodes = [\n",
       "        {id: 1, label: 'Beyonce', group: 'United States'},\n",
       "        {id: 2, label: 'Barak Obama', group: 'United States'},\n",
       "        {id: 3, label: 'Miley Cyrus', group: 'United States'},\n",
       "        {id: 4, label: 'Pope Francis', group: 'Vatican'},\n",
       "        {id: 5, label: 'Vladimir Putin', group: 'Rusia'}\n",
       "    ];\n",
       "\n",
       "    // create an array with edges\n",
       "    var edges = [\n",
       "        {from: 1, to: 2},\n",
       "        {from: 1, to: 3},\n",
       "        {from: 2, to: 4},\n",
       "        {from: 2, to: 5}\n",
       "    ];\n",
       "\n",
       "    // create a network\n",
       "    var container = document.getElementById('mynetwork');\n",
       "    var data= {\n",
       "        nodes: nodes,\n",
       "        edges: edges,\n",
       "    };\n",
       "    var options = {\n",
       "        width: '800px',\n",
       "        height: '400px'\n",
       "    };\n",
       "    \n",
       "    var network = new vis.Network(container, data, options);\n",
       "});"
      ],
      "text/plain": [
       "<IPython.core.display.Javascript object>"
      ]
     },
     "metadata": {},
     "output_type": "display_data"
    }
   ],
   "source": [
    "%%javascript\n",
    "requirejs.config({\n",
    "    paths: {\n",
    "        vis: 'vis'\n",
    "    }\n",
    "});\n",
    "\n",
    "require(['vis'], function(vis){\n",
    "    \n",
    "    var nodes = [\n",
    "        {id: 1, label: 'Beyonce', group: 'United States'},\n",
    "        {id: 2, label: 'Barak Obama', group: 'United States'},\n",
    "        {id: 3, label: 'Miley Cyrus', group: 'United States'},\n",
    "        {id: 4, label: 'Pope Francis', group: 'Vatican'},\n",
    "        {id: 5, label: 'Vladimir Putin', group: 'Rusia'}\n",
    "    ];\n",
    "\n",
    "    // create an array with edges\n",
    "    var edges = [\n",
    "        {from: 1, to: 2},\n",
    "        {from: 1, to: 3},\n",
    "        {from: 2, to: 4},\n",
    "        {from: 2, to: 5}\n",
    "    ];\n",
    "\n",
    "    // create a network\n",
    "    var container = document.getElementById('mynetwork');\n",
    "    var data= {\n",
    "        nodes: nodes,\n",
    "        edges: edges,\n",
    "    };\n",
    "    var options = {\n",
    "        width: '800px',\n",
    "        height: '400px'\n",
    "    };\n",
    "    \n",
    "    var network = new vis.Network(container, data, options);\n",
    "});"
   ]
  },
  {
   "cell_type": "code",
   "execution_count": null,
   "metadata": {},
   "outputs": [],
   "source": [
    "from IPython.core.display import display, HTML\n",
    "from string import Template\n",
    "\n",
    "nodes = [\n",
    "        {'id': 1, 'label': 'Beyonce', 'group': 'United States'},\n",
    "        {'id': 2, 'label': 'Barak Obama', 'group': 'United States'},\n",
    "        {'id': 3, 'label': 'Miley Cyrus', 'group': 'United States'},\n",
    "        {'id': 4, 'label': 'Pope Francis', 'group': 'Vatican'},\n",
    "        {'id': 5, 'label': 'Vladimir Putin', 'group': 'Rusia'}\n",
    "]\n",
    "\n",
    "edges = [\n",
    "        {'from': 1, 'to': 2},\n",
    "        {'from': 1, 'to': 3},\n",
    "        {'from': 2, 'to': 4},\n",
    "        {'from': 2, 'to': 5}\n",
    "]"
   ]
  }
 ],
 "metadata": {
  "interactive_sols": {
   "cbx_id": 1
  },
  "kernelspec": {
   "display_name": "Python 3",
   "language": "python",
   "name": "python3"
  },
  "language_info": {
   "codemirror_mode": {
    "name": "ipython",
    "version": 3
   },
   "file_extension": ".py",
   "mimetype": "text/x-python",
   "name": "python",
   "nbconvert_exporter": "python",
   "pygments_lexer": "ipython3",
   "version": "3.6.5rc1"
  }
 },
 "nbformat": 4,
 "nbformat_minor": 2
}
