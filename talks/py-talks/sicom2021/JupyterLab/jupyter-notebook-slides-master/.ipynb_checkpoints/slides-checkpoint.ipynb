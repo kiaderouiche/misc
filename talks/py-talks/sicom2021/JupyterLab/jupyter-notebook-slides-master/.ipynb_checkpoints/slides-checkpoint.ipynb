{
 "cells": [
  {
   "cell_type": "markdown",
   "metadata": {
    "nbpresent": {
     "id": "fba81c9e-6c7a-468b-adb2-4ba03e6f919b"
    },
    "slideshow": {
     "slide_type": "skip"
    }
   },
   "source": [
    "<style type=\"text/css\">\n",
    ".reveal h1, .reveal h2 {\n",
    "    font-family:\"League Gothic\"\n",
    "}\n",
    "</style>"
   ]
  },
  {
   "cell_type": "markdown",
   "metadata": {
    "nbpresent": {
     "id": "ac436727-a94b-40fd-911e-6cfa5906ae3b"
    },
    "slideshow": {
     "slide_type": "slide"
    }
   },
   "source": [
    "# <center> Premier pas avec IPython et Jupyter deux couteaux suisse du développeur </center>\n",
    "\n",
    "\n",
    "<center>\n",
    "\n",
    "\n",
    "<p> <b>K.I.A.Derouiche</b>\n",
    "\n",
    "<p> Mars 24,  2018 Free Djelfa\n",
    "\n",
    "<p>Djelfa, Algerie\n",
    "</center>"
   ]
  },
  {
   "cell_type": "markdown",
   "metadata": {
    "nbpresent": {
     "id": "f8a5e4d7-e2d2-4d44-81da-95bf74d58ca3"
    },
    "slideshow": {
     "slide_type": "subslide"
    }
   },
   "source": [
    "## About me\n",
    "\n",
    "- Architect R&D at ADGON Solutions()\n",
    "- Membre de l'association A2DMETI\n",
    "- [GitHub](http://github.com/kiaderouiche)\n",
    "\n",
    "#### Contact\n",
    "\n",
    "- [@kiaderouiche](http://twitter.com/kiaderouiche)\n",
    "\n",
    "- [Email](mailto:kamel.derouiche@gmail.com)\n"
   ]
  },
  {
   "cell_type": "markdown",
   "metadata": {
    "nbpresent": {
     "id": "d7c46c3c-fc30-4284-9099-7b50d3a7ad9b"
    },
    "slideshow": {
     "slide_type": "slide"
    }
   },
   "source": [
    "\n",
    "# Le commencement !\n",
    "\n",
    "créé par F Perez(Photo) (chercheur au Berkeley Institute for Data Science) en 2001.\n"
   ]
  },
  {
   "cell_type": "markdown",
   "metadata": {},
   "source": [
    "## Qui utilisent Jupyter\n",
    "\n",
    "Google, Amazon, Microsoft"
   ]
  },
  {
   "cell_type": "markdown",
   "metadata": {
    "nbpresent": {
     "id": "7547be4a-01f4-4188-9268-70be4208cc91"
    },
    "slideshow": {
     "slide_type": "slide"
    }
   },
   "source": [
    "# Introduction à IPython\n",
    "<p>\n",
    "<p>"
   ]
  },
  {
   "cell_type": "markdown",
   "metadata": {
    "nbpresent": {
     "id": "3ed13b4d-69c4-404d-94c5-c509778d848e"
    },
    "slideshow": {
     "slide_type": "subslide"
    }
   },
   "source": [
    "\n",
    "## Un mot sur l'installation \n",
    "\n",
    "Il y a divers maniéres aprés une installation via votre distribution, en peut l'utiliser en ligne en passant par \n",
    "- installation de paquets via les distributions.\n",
    "- Utilisation de l'environement virtualenv.\n",
    "- https://cloud.sagemath.com/ gratuit après enregistrement: (\"free service with support from University of Washington, the National Science Foundation and Google\") \n",
    "- <https://wakari.io/> de <http://continuum.io/> (distribution Python Anaconda), gratuit jusqu'à un certain seuil, toujours après enregistrement:"
   ]
  },
  {
   "cell_type": "markdown",
   "metadata": {},
   "source": [
    "# Au commencement il eut IPython...\n",
    "\n",
    "- coloration syntaxique\n",
    "- autocompletation\n",
    "- historiques des saisies et des résultats\n",
    "- aide en ligne\n",
    "- commandes systemes commandes utiles propres (%magics)\n",
    "- intégration à la boucle d'évènement de divers toolkits graphiques(qt, gtk, wx)\n",
    "- pylab"
   ]
  },
  {
   "cell_type": "markdown",
   "metadata": {},
   "source": [
    "## Edition et évaluation de code python\n",
    "\n",
    "Avec complétation automatique et coloration syntaxique.\n",
    "\n",
    "IPython affiche le résultat de la derniére expression évaluée si elle ne vaut pas None\n"
   ]
  },
  {
   "cell_type": "markdown",
   "metadata": {},
   "source": [
    "### Commandes propres à IPython (Les fonctions magiques)\n",
    "- commence avec % et %%\n",
    "- %quickref pour avoir tout les commandes\n",
    "- %lsmagic lister tout les fonctions magiques\n",
    "\n",
    "Available line magics:\n",
    "%alias  %alias_magic  %autocall  %autoindent  %automagic  %bookmark  %cat  %cd  %clear  %colors  %config  %cp  %cpaste  %debug  %dhist  %dirs  %doctest_mode  %ed  %edit  %env  %gui  %hist  %history  %killbgscripts  %ldir  %less  %lf  %lk  %ll  %load  %load_ext  %loadpy  %logoff  %logon  %logstart  %logstate  %logstop  %ls  %lsmagic  %lx  %macro  %magic  %man  %matplotlib  %mkdir  %more  %mv  %notebook  %page  %paste  %pastebin  %pdb  %pdef  %pdoc  %pfile  %pinfo  %pinfo2  %popd  %pprint  %precision  %profile  %prun  %psearch  %psource  %pushd  %pwd  %pycat  %pylab  %quickref  %recall  %rehashx  %reload_ext  %rep  %rerun  %reset  %reset_selective  %rm  %rmdir  %run  %save  %sc  %set_env  %store  %sx  %system  %tb  %time  %timeit  %unalias  %unload_ext  %who  %who_ls  %whos  %xdel  %xmode\n",
    "\n",
    "Available cell magics:\n",
    "%%!  %%HTML  %%SVG  %%bash  %%capture  %%debug  %%file  %%html  %%javascript  %%js  %%latex  %%markdown  %%perl  %%prun  %%pypy  %%python  %%python2  %%python3  %%ruby  %%script  %%sh  %%svg  %%sx  %%system  %%time  %%timeit  %%writefile\n",
    "\n",
    "Automagic is ON, % prefix IS NOT needed for line magics.\n"
   ]
  },
  {
   "cell_type": "markdown",
   "metadata": {},
   "source": [
    "# IPython Architecture\n",
    "\n",
    "![Jupyter process](images/building_custom_kernels_for_ipython.jpg \"Jupyter \")"
   ]
  },
  {
   "cell_type": "markdown",
   "metadata": {},
   "source": [
    "En lançant la commande ipython on travaille directement avec IPython, via stdin, stdout et stderr\n",
    "\n",
    "Outer l'économie de ressources, cela permet de l'utiliser comme un shell systéme"
   ]
  },
  {
   "cell_type": "markdown",
   "metadata": {},
   "source": [
    "### Gérer une session IPython"
   ]
  },
  {
   "cell_type": "code",
   "execution_count": 2,
   "metadata": {
    "nbpresent": {
     "id": "88e4d37f-80d7-4c0c-ad7b-8c57e028e49d"
    },
    "slideshow": {
     "slide_type": "slide"
    }
   },
   "outputs": [
    {
     "name": "stderr",
     "output_type": "stream",
     "text": [
      "/home/kiad/Atelier/EmulPy/lib/python3.6/site-packages/IPython/core/magics/logging.py:130: UserWarning: Couldn't start log: Log file is already active: ipython_log.py\n",
      "  warn(\"Couldn't start log: %s\" % sys.exc_info()[1])\n"
     ]
    }
   ],
   "source": [
    "#Lancer l'engirsement de la session\n",
    "%logstart"
   ]
  },
  {
   "cell_type": "markdown",
   "metadata": {},
   "source": [
    "*** Etat de la session***\n",
    "\n",
    "%logstate"
   ]
  },
  {
   "cell_type": "markdown",
   "metadata": {},
   "source": [
    "*** Historique de la session***\n",
    "\n",
    "%history #or %hist"
   ]
  },
  {
   "cell_type": "markdown",
   "metadata": {},
   "source": [
    "### Gérér les sources\n",
    "%"
   ]
  },
  {
   "cell_type": "markdown",
   "metadata": {},
   "source": [
    "Exécution de commandes du shell avec la commande !"
   ]
  },
  {
   "cell_type": "code",
   "execution_count": null,
   "metadata": {},
   "outputs": [],
   "source": [
    "In [3]: ! du -h /etc"
   ]
  },
  {
   "cell_type": "markdown",
   "metadata": {},
   "source": [
    "## Affichage et integration des objets riches\n",
    "\n"
   ]
  },
  {
   "cell_type": "markdown",
   "metadata": {},
   "source": [
    "### Documentation en ligne\n",
    "IPython propose une alternative commode à la commande help() de python avec la syntaxe ?\n",
    "On peut meme consulter le code source (si présent) avec ??\n",
    "un aide mémoire des commandes IPython en utilisant %quickref"
   ]
  },
  {
   "cell_type": "markdown",
   "metadata": {},
   "source": [
    "*** Exemple ***"
   ]
  },
  {
   "cell_type": "code",
   "execution_count": 11,
   "metadata": {},
   "outputs": [
    {
     "data": {
      "text/plain": [
       "\u001b[0;31mInit signature:\u001b[0m \u001b[0mio\u001b[0m\u001b[0;34m.\u001b[0m\u001b[0mBytesIO\u001b[0m\u001b[0;34m(\u001b[0m\u001b[0minitial_bytes\u001b[0m\u001b[0;34m=\u001b[0m\u001b[0;34mb''\u001b[0m\u001b[0;34m)\u001b[0m\u001b[0;34m\u001b[0m\u001b[0m\n",
       "\u001b[0;31mDocstring:\u001b[0m      Buffered I/O implementation using an in-memory bytes buffer.\n",
       "\u001b[0;31mType:\u001b[0m           type\n"
      ]
     },
     "metadata": {},
     "output_type": "display_data"
    }
   ],
   "source": [
    "import io\n",
    "io.BytesIO?"
   ]
  },
  {
   "cell_type": "code",
   "execution_count": 13,
   "metadata": {
    "nbpresent": {
     "id": "76a9ce29-d048-4b69-add0-1704b7e8b3f4"
    },
    "slideshow": {
     "slide_type": "subslide"
    }
   },
   "outputs": [
    {
     "data": {
      "text/plain": [
       "[-1/2]"
      ]
     },
     "execution_count": 13,
     "metadata": {},
     "output_type": "execute_result"
    }
   ],
   "source": [
    "# Solve equations\n",
    "\n",
    "from sympy import solve, Symbol\n",
    "x = Symbol('x')\n",
    "solve(2*x + 1)\n"
   ]
  },
  {
   "cell_type": "code",
   "execution_count": 24,
   "metadata": {
    "nbpresent": {
     "id": "98f39faa-c469-4d35-a480-5f7cdae949a0"
    },
    "slideshow": {
     "slide_type": "subslide"
    }
   },
   "outputs": [
    {
     "data": {
      "text/plain": [
       "1"
      ]
     },
     "execution_count": 24,
     "metadata": {},
     "output_type": "execute_result"
    }
   ],
   "source": [
    "# Limits\n",
    "\n",
    "from sympy import Symbol, Limit, sin\n",
    "x = Symbol('x')\n",
    "Limit(sin(x)/x, x, 0).doit()\n",
    "\n",
    "\n"
   ]
  },
  {
   "cell_type": "code",
   "execution_count": 2,
   "metadata": {
    "nbpresent": {
     "id": "0b527ff7-7e15-4446-9e1d-6b57f0be2987"
    },
    "slideshow": {
     "slide_type": "subslide"
    }
   },
   "outputs": [
    {
     "data": {
      "text/latex": [
       "$$y = \\sqrt{log(1+x^{2})+\\frac{x^{\\sin(2\\pi x)}}{\\tanh(2.)}}$$"
      ],
      "text/plain": [
       "<IPython.core.display.Math object>"
      ]
     },
     "metadata": {},
     "output_type": "display_data"
    }
   ],
   "source": [
    "## Je souhaite calculer pour la valeur x = 2.0 avec SymPy et NumPy\n",
    "from IPython.display import display, Math, Latex\n",
    "display(Math(r'y = \\sqrt{log(1+x^{2})+\\frac{x^{\\sin(2\\pi x)}}{\\tanh(2.)}}'))\n",
    "\n"
   ]
  },
  {
   "cell_type": "code",
   "execution_count": 45,
   "metadata": {
    "nbpresent": {
     "id": "b5d2e98a-283b-413f-bb5b-71abec1c4396"
    },
    "slideshow": {
     "slide_type": "subslide"
    }
   },
   "outputs": [
    {
     "name": "stdout",
     "output_type": "stream",
     "text": [
      "y=\n"
     ]
    },
    {
     "data": {
      "image/png": "[encoded data removed]",
      "text/latex": [
       "$$\\sqrt{\\frac{x^{\\sin{\\left (2 \\pi x \\right )}}}{\\tanh{\\left (t \\right )}} + \\log{\\left (x^{2} + 1 \\right )}}$$"
      ],
      "text/plain": [
       "     ___________________________\n",
       "    ╱  sin(2⋅π⋅x)               \n",
       "   ╱  x                ⎛ 2    ⎞ \n",
       "  ╱   ─────────── + log⎝x  + 1⎠ \n",
       "╲╱      tanh(t)                 "
      ]
     },
     "execution_count": 45,
     "metadata": {},
     "output_type": "execute_result"
    }
   ],
   "source": [
    "# Calculer symboliquement de y \n",
    "from sympy import init_printing\n",
    "from sympy import  symbols, sqrt, log, tanh, sin, pi\n",
    "init_printing(pretty_print=True)\n",
    "x, y, t = symbols('x y t', type=float)\n",
    "y = sqrt(log(1+x**2)+x**sin(2*pi*x)/tanh(t))\n",
    "print(\"y =\"); y\n"
   ]
  },
  {
   "cell_type": "code",
   "execution_count": 55,
   "metadata": {
    "nbpresent": {
     "id": "d48794fa-324f-4543-97a7-02cc2ed6070e"
    },
    "slideshow": {
     "slide_type": "notes"
    }
   },
   "outputs": [
    {
     "name": "stdout",
     "output_type": "stream",
     "text": [
      "1.62688433306\n"
     ]
    }
   ],
   "source": [
    "# Calculer numérique de y \n",
    "import numpy \n",
    "from numpy import sqrt, log, sin, tanh, pi, power\n",
    "x = 2.0\n",
    "y1 = numpy.sqrt(numpy.log(1+x**2)+numpy.power(x,numpy.sin(2*numpy.pi*x))/numpy.tanh(2.))\n",
    "print (y1)"
   ]
  },
  {
   "cell_type": "markdown",
   "metadata": {},
   "source": [
    "### Audio Multimedia "
   ]
  },
  {
   "cell_type": "code",
   "execution_count": null,
   "metadata": {},
   "outputs": [],
   "source": []
  },
  {
   "cell_type": "markdown",
   "metadata": {},
   "source": [
    "### Video "
   ]
  },
  {
   "cell_type": "code",
   "execution_count": null,
   "metadata": {},
   "outputs": [],
   "source": []
  },
  {
   "cell_type": "code",
   "execution_count": 6,
   "metadata": {
    "nbpresent": {
     "id": "320f22bb-bdd5-4377-8731-b09073f15c4f"
    }
   },
   "outputs": [
    {
     "data": {
      "image/jpeg": "[encoded data removed]",
      "text/html": [
       "\n",
       "        <iframe\n",
       "            width=\"400\"\n",
       "            height=\"300\"\n",
       "            src=\"https://www.youtube.com/embed/8uWRVh58KdQ\"\n",
       "            frameborder=\"0\"\n",
       "            allowfullscreen\n",
       "        ></iframe>\n",
       "        "
      ],
      "text/plain": [
       "<IPython.lib.display.YouTubeVideo at 0x7f243682bdd8>"
      ]
     },
     "execution_count": 6,
     "metadata": {},
     "output_type": "execute_result"
    }
   ],
   "source": [
    "from IPython.display import YouTubeVideo\n",
    "YouTubeVideo(\"8uWRVh58KdQ\")"
   ]
  },
  {
   "cell_type": "markdown",
   "metadata": {
    "nbpresent": {
     "id": "393304de-fd36-45ec-8672-70623a9d463d"
    },
    "slideshow": {
     "slide_type": "slide"
    }
   },
   "source": [
    "# Jupyter Notebook\n",
    "<p>\n",
    "<p>\n",
    "\n",
    "<img align=\"center\" src=\"images/giant_shoulders_collage.jpg\"></img>"
   ]
  },
  {
   "cell_type": "markdown",
   "metadata": {},
   "source": [
    "# Le projet jupyter\n",
    "\n",
    "Depuis la version 4, le projet ipython à été divsé en :\n",
    "\n",
    "- **Jupyter(notebook, console, qtconsole)** - les interfaces\n",
    "- **ipykernel** - le backend python\n",
    "- **ipywidgets** - éléments d'interfaces utilsateurs\n",
    "- **ipyparalléle** - framework d'exécution paralléle\n",
    "- **trailets** - système de conf commun"
   ]
  },
  {
   "cell_type": "markdown",
   "metadata": {
    "nbpresent": {
     "id": "702b81c3-b54e-4ac9-aae7-8e5a9321db2e"
    },
    "slideshow": {
     "slide_type": "slide"
    }
   },
   "source": [
    "\n",
    "\n",
    "![Jupyter process](images/diag-1.png \"Jupyter process\")\n",
    "\n"
   ]
  },
  {
   "cell_type": "markdown",
   "metadata": {},
   "source": [
    "# Architecture de Jupyter\n"
   ]
  },
  {
   "cell_type": "markdown",
   "metadata": {},
   "source": [
    "Avec le notebook  du Jupyter on a :\n",
    "- accés à tous les services noyau de IPython y compris l'affichage riche des objets\n",
    "- la possibilité d'inserer du texte formaté en markdown ou en LaTeX\n",
    " Le document ainsi crée est enrgesitré au format .ipynb qui est du json"
   ]
  },
  {
   "cell_type": "markdown",
   "metadata": {},
   "source": [
    "## Démarrage et organisation de l'interface\n",
    "** Démonstration **\n",
    "- lancement du serveur\n",
    "- présentation de l'interface home\n",
    "- ouverture et création d'un notebook\n",
    "- changer le titre\n",
    "- notion de cellule et markdown\n",
    "- illustration complétation et documentation du notebook \n",
    "- purger les sorties\n",
    "- déplacer les cellules\n",
    "- racourcis clavier"
   ]
  },
  {
   "cell_type": "markdown",
   "metadata": {},
   "source": [
    "## Qu'est ce que en peut faire dans un document jupyter?\n",
    "- mettre en forme du texte avec markdown(et HTML)\n",
    "- insérer des formules mathématiques avec LaTeX\n",
    "- insérer et exécuter du code Python\n",
    "- insérer des images, vidéos\n",
    "- capturer les sorties matplotlib\n",
    "- and more...\n"
   ]
  },
  {
   "cell_type": "markdown",
   "metadata": {},
   "source": [
    "### IPywidgets\n",
    "\n",
    "Les IPywidgets sont des éléments graphiques permettant de piloter des paramétres de fonctions\n",
    "- des zones de saisies\n",
    "- des cases à cocher\n",
    "- des curseurs\n",
    "- des menus déroulants "
   ]
  },
  {
   "cell_type": "markdown",
   "metadata": {},
   "source": [
    "### Jupyter Console\n",
    "\n",
    "![JupyterLab QtConsole](images/jupyterqtconsole.png \"JupyterLab QtConsole\")\n",
    "\n",
    "A premiére vue, le shell IPython et la console Jupyter sont identiques, ils ont les memes fonctionnalités utilisateur.\n",
    "\n",
    "Cependant, la commande jupyter console:\n",
    "- lance deux processus: le noyau IPython + la console Jupyter(défaut)\n",
    "- ou permet de se connecter à un noyau existant, eventuellement distant(via ssh ou direct)\n",
    "\n",
    "plusieurs consoles Jupyter peuvent partager le meme noyau\n"
   ]
  },
  {
   "cell_type": "markdown",
   "metadata": {},
   "source": [
    "### Jupyter QtConsole\n",
    "Ici il est question de mettre en vigeur une image du projet Jupyter QtConsole(anciemment ipython qtconsole)\n",
    "\n",
    "$ jupyter qtconsole"
   ]
  },
  {
   "cell_type": "markdown",
   "metadata": {
    "nbpresent": {
     "id": "90da9e98-747d-4203-bc9d-29754f325dca"
    },
    "slideshow": {
     "slide_type": "subslide"
    }
   },
   "source": [
    "## Le format .ipynb\n",
    "> Le format de notebook est en format JSON"
   ]
  },
  {
   "cell_type": "markdown",
   "metadata": {},
   "source": [
    "# JupyterLab: L'environnement de développement web"
   ]
  },
  {
   "cell_type": "markdown",
   "metadata": {
    "nbpresent": {
     "id": "afffc8b8-d120-497d-ad87-5280d40f2ffa"
    },
    "slideshow": {
     "slide_type": "slide"
    }
   },
   "source": [
    "\n",
    "\n",
    "![JupyterLab process](images/diag-2.png \"JupyterLab process\")\n"
   ]
  },
  {
   "cell_type": "markdown",
   "metadata": {},
   "source": [
    "## Pourquoi JupyterLab?\n",
    "-"
   ]
  },
  {
   "cell_type": "markdown",
   "metadata": {},
   "source": [
    "### Quelques différences avec Jupyter\n",
    "- glisser-déposer pour réorganiser les cellules d’un notebook et les copier entre les notebooks.\n",
    "- l'affichage un moteur de rendu plus récent.\n",
    "- exécution des blocs de code de manière interactive à partir de fichiers texte (.py, .R, .md, .tex, etc.) ;\n",
    "- associer une console de code à un kernel de notebook pour explorer le code de manière interactive sans encombrer le notebook avec un travail temporaire ;\n",
    "- le tout en un, editeur JSON, console d'administration, composant web, notebooks un IDE scientifique intégéré avec une logique web\n",
    "- modifier les formats de fichiers populaires avec un aperçu en direct, tel que Markdown, JSON, CSV, Vega, VegaLite, et plus encore."
   ]
  },
  {
   "cell_type": "markdown",
   "metadata": {
    "nbpresent": {
     "id": "b1887b06-a821-48ae-ba67-04191c5af6c7"
    },
    "slideshow": {
     "slide_type": "subslide"
    }
   },
   "source": [
    "### Les extensions de JupyterLab\n",
    "\n",
    "JupyterLab dispose d'une option pour liste les extensions:\n",
    "\n",
    "$ jupyterlab labextension list\n",
    "\n",
    "Pour installer une extension pour jupyter\n",
    "\n",
    "$ jupyter labextension install jupyterlab_voyager\n",
    "\n",
    "jupyter labextension disable\n",
    "\n",
    "jupyter labextension enable\n",
    "\n",
    "https://jupyterlab.readthedocs.io/en/latest/developer/extension_dev.html \n",
    "\n"
   ]
  },
  {
   "cell_type": "markdown",
   "metadata": {},
   "source": [
    "# Pandas\n",
    "\n",
    "Le traitement des données modifie actuellement de nombreux secteurs d’activités. Dans ce cadre, l’utilisation de la librairie Pandas sous Python et Jupyter rend la lecture de certains formats, le regroupement de données et quelques traitements statistiques trés simples."
   ]
  },
  {
   "cell_type": "code",
   "execution_count": 17,
   "metadata": {},
   "outputs": [],
   "source": [
    "import pandas as pd\n",
    "import numpy as np"
   ]
  },
  {
   "cell_type": "markdown",
   "metadata": {
    "nbpresent": {
     "id": "f14b19a7-1727-4599-bef5-debf1720c847"
    },
    "slideshow": {
     "slide_type": "slide"
    }
   },
   "source": [
    "## Des langages à volonté\n",
    "\n",
    "IPython Kernel supporte plus de 50 langage de programmation utiliser et mélanger dans une même interface: Python, R, JavaScript, Ruby, Perl, C, Julia, Fortran, Matlab ou Mathematica, SQLite et SQL.\n",
    "\n",
    "https://github.com/jupyter/jupyter/wiki/Jupyter-kernels \n"
   ]
  },
  {
   "cell_type": "markdown",
   "metadata": {
    "slideshow": {
     "slide_type": "subslide"
    }
   },
   "source": [
    "### Interagir avec le Kernel\n",
    "$ jupyter kernelspec list\n",
    "\n",
    "Available kernels:\n",
    "\n",
    "  bash               /home/kiad/.local/share/jupyter/kernels/bash\n",
    "  \n",
    "  python3            /home/kiad/.local/share/jupyter/kernels/python3\n",
    "  \n",
    "  octave             /home/kiad/Atelier/EmulPy/share/jupyter/kernels/\n",
    "  \n",
    "  scilab             /home/kiad/Atelier/EmulPy/share/jupyter/kernels/scilab\n",
    "  \n",
    "  coarray-fortran    /usr/local/share/jupyter/kernels/coarray-fortran\n",
    "  \n",
    "  python2            /usr/share/jupyter/kernels/python2\n",
    "  \n",
    "  sagemath           /usr/share/jupyter/kernels/sagemath\n",
    "\n",
    "  \n"
   ]
  },
  {
   "cell_type": "markdown",
   "metadata": {
    "slideshow": {
     "slide_type": "subslide"
    }
   },
   "source": [
    "### Exemple d'installation\n",
    "\n",
    "- octave     /home/user/Travaux/LearnPy/workPy/share/jupyter/kernels/octave"
   ]
  },
  {
   "cell_type": "markdown",
   "metadata": {
    "nbpresent": {
     "id": "e07c458a-7161-4c85-859e-efa8a3363788"
    },
    "slideshow": {
     "slide_type": "subslide"
    }
   },
   "source": [
    "# Converion et publication\n",
    "\n",
    "L'outil nbconvert est un outil en ligne de commandes qui permet de convertir les fichiers .ipynb dans un des formats supportés: HTML, PDF via LaTeX, diapositives(reveal.js), script, markdown, ReStructured Text.\n",
    "\n",
    "> jupyter nbconvert --to pdf votre_fichier.ipynb\n",
    "\n",
    "> jupyter nbconvert --to html --template base votre_fichier.ipynb\n",
    "\n",
    "> jupyter nbconvert slides.ipynb --to slides --post serve \n",
    "--ServePostProcessor.reveal_cdn=\"http://cdn.jsdelivr.net/reveal.js/2.5.0\"\n"
   ]
  },
  {
   "cell_type": "markdown",
   "metadata": {},
   "source": [
    "*** Démonstration ***\n",
    "- le notebook de cette présentation\n",
    "- les méta-données de cellule."
   ]
  },
  {
   "cell_type": "markdown",
   "metadata": {
    "nbpresent": {
     "id": "7e6be5e7-fe20-4c22-ae8e-37af04a0ef4e"
    },
    "slideshow": {
     "slide_type": "slide"
    }
   },
   "source": [
    "## nbviewer Publication sur internet (Un livre écrit totalement avec Jupyter)\n",
    "\n",
    "\n",
    "<img align=\"center\" src=\"images/image-book.jpg\" href=\"http://camdavidsonpilon.github.io/Probabilistic-Programming-and-Bayesian-Methods-for-Hackers/\"></img>"
   ]
  },
  {
   "cell_type": "markdown",
   "metadata": {
    "nbpresent": {
     "id": "96bff41b-171d-43dd-a6e7-ba868667a437"
    },
    "slideshow": {
     "slide_type": "slide"
    }
   },
   "source": [
    "# Coopération et partage\n",
    "\n",
    "Avec d'autres utilisateurs de jupyter:\n",
    "\n",
    "- On peut facilement partager le notebook lui meme\n",
    "    - par email\n",
    "    - par répertoire partagé\n",
    "    - dans le cloud\n",
    "    - via un VCS privé ou github/bitbucket\n",
    "- Ou utiliser JupyterHub (https://github.com/jupyterhub/jupyterhub)\n",
    " dans une origanisation\n",
    "\n"
   ]
  }
 ],
 "metadata": {
  "celltoolbar": "Slideshow",
  "kernelspec": {
   "display_name": "Python 3",
   "language": "python",
   "name": "python3"
  },
  "language_info": {
   "codemirror_mode": {
    "name": "ipython",
    "version": 3
   },
   "file_extension": ".py",
   "mimetype": "text/x-python",
   "name": "python",
   "nbconvert_exporter": "python",
   "pygments_lexer": "ipython3",
   "version": "3.6.5rc1"
  },
  "nbpresent": {
   "slides": {
    "00dc50a5-89d9-4019-a319-698122cd0288": {
     "id": "00dc50a5-89d9-4019-a319-698122cd0288",
     "prev": null,
     "regions": {
      "833c05a5-ef4b-4ac1-87b5-2cdcb5c9f168": {
       "attrs": {
        "height": 0.8,
        "width": 0.8,
        "x": 0.1,
        "y": 0.1
       },
       "content": {
        "cell": "e78a0682-3d03-4614-9018-b1f2bf5ed21f",
        "part": "whole"
       },
       "id": "833c05a5-ef4b-4ac1-87b5-2cdcb5c9f168"
      }
     }
    },
    "074182c4-2f1a-473a-ba7b-a6a315194d4d": {
     "id": "074182c4-2f1a-473a-ba7b-a6a315194d4d",
     "prev": "34b629e7-f47e-4adc-b79a-6ef229996ff0",
     "regions": {
      "ac72df86-1aa8-4ff7-97a7-47ea441fcc92": {
       "attrs": {
        "height": 0.8,
        "width": 0.8,
        "x": 0.1,
        "y": 0.1
       },
       "content": {
        "cell": "7e2b7e6c-e9ad-435d-80d9-8c301439a80a",
        "part": "whole"
       },
       "id": "ac72df86-1aa8-4ff7-97a7-47ea441fcc92"
      }
     }
    },
    "12450212-231e-41fc-8685-897b012c6fb6": {
     "id": "12450212-231e-41fc-8685-897b012c6fb6",
     "prev": "d3bc4e05-43e3-4632-b32e-606951e39b21",
     "regions": {
      "69f84981-c9c2-46b2-84e2-3276fc02dbde": {
       "attrs": {
        "height": 0.8,
        "width": 0.8,
        "x": 0.1,
        "y": 0.1
       },
       "content": {
        "cell": "98f39faa-c469-4d35-a480-5f7cdae949a0",
        "part": "whole"
       },
       "id": "69f84981-c9c2-46b2-84e2-3276fc02dbde"
      }
     }
    },
    "15ce8f87-0fd9-41d9-ac1c-18ebb85d1136": {
     "id": "15ce8f87-0fd9-41d9-ac1c-18ebb85d1136",
     "prev": "79831031-e005-444a-a8cb-fdb31edebcef",
     "regions": {
      "78cc9a3f-953d-43c0-a00f-3f1549ef40ce": {
       "attrs": {
        "height": 0.8,
        "width": 0.8,
        "x": 0.1,
        "y": 0.1
       },
       "content": {
        "cell": "eab2c961-a82d-437b-99d9-4f6b4c7d1ab2",
        "part": "whole"
       },
       "id": "78cc9a3f-953d-43c0-a00f-3f1549ef40ce"
      }
     }
    },
    "187fa342-e3bd-4b99-98f4-8284e4236ba6": {
     "id": "187fa342-e3bd-4b99-98f4-8284e4236ba6",
     "prev": "dac645ef-2d6f-4d99-adc2-6b99c21574d5",
     "regions": {
      "afcfd7a2-b385-467a-807c-10d42e1d8f74": {
       "attrs": {
        "height": 0.8,
        "width": 0.8,
        "x": 0.1,
        "y": 0.1
       },
       "content": {
        "cell": "a04faa15-6aae-44c1-820b-f216c4a0c590",
        "part": "whole"
       },
       "id": "afcfd7a2-b385-467a-807c-10d42e1d8f74"
      }
     }
    },
    "195e197d-d45f-4a45-ae50-a5c90f21bbdd": {
     "id": "195e197d-d45f-4a45-ae50-a5c90f21bbdd",
     "prev": "5d0987c0-52bd-4b9b-b5e5-01eaffb116c7",
     "regions": {
      "53ad4d23-fb59-49ea-943a-6a0b60fe199b": {
       "attrs": {
        "height": 0.8,
        "width": 0.8,
        "x": 0.1,
        "y": 0.1
       },
       "content": {
        "cell": "f8a5e4d7-e2d2-4d44-81da-95bf74d58ca3",
        "part": "whole"
       },
       "id": "53ad4d23-fb59-49ea-943a-6a0b60fe199b"
      }
     }
    },
    "1d2d5175-685c-46fb-8d33-8060ba054a53": {
     "id": "1d2d5175-685c-46fb-8d33-8060ba054a53",
     "prev": "510ba2ee-1c9d-45f5-80a2-e0916c6361fd",
     "regions": {
      "1a63b7a9-8e60-4be3-a33a-acf0cdd43aac": {
       "attrs": {
        "height": 0.8,
        "width": 0.8,
        "x": 0.1,
        "y": 0.1
       },
       "content": {
        "cell": "b4420628-b05a-4f36-b711-2e59728bed44",
        "part": "whole"
       },
       "id": "1a63b7a9-8e60-4be3-a33a-acf0cdd43aac"
      }
     }
    },
    "245c4015-3e6d-486e-889b-579c6e52a017": {
     "id": "245c4015-3e6d-486e-889b-579c6e52a017",
     "prev": "195e197d-d45f-4a45-ae50-a5c90f21bbdd",
     "regions": {
      "c0faa0f9-3516-43aa-9169-662a95466c85": {
       "attrs": {
        "height": 0.8,
        "width": 0.8,
        "x": 0.1,
        "y": 0.1
       },
       "content": {
        "cell": "7547be4a-01f4-4188-9268-70be4208cc91",
        "part": "whole"
       },
       "id": "c0faa0f9-3516-43aa-9169-662a95466c85"
      }
     }
    },
    "289971b7-973f-4bb6-8995-be79ab67a5d8": {
     "id": "289971b7-973f-4bb6-8995-be79ab67a5d8",
     "prev": "d0cec765-851b-49e5-9a53-27a93c8229ea",
     "regions": {
      "5da13099-a844-4d0b-abe3-280a6df696f2": {
       "attrs": {
        "height": 0.8,
        "width": 0.8,
        "x": 0.1,
        "y": 0.1
       },
       "content": {
        "cell": "d7c46c3c-fc30-4284-9099-7b50d3a7ad9b",
        "part": "whole"
       },
       "id": "5da13099-a844-4d0b-abe3-280a6df696f2"
      }
     }
    },
    "29a90473-f9fc-4bfa-ab46-44962b69d97c": {
     "id": "29a90473-f9fc-4bfa-ab46-44962b69d97c",
     "prev": "b8588f0d-f678-4fd6-9def-119dc6249bbc",
     "regions": {
      "3456c295-08c6-4544-afab-7966a2d505e4": {
       "attrs": {
        "height": 0.8,
        "width": 0.8,
        "x": 0.1,
        "y": 0.1
       },
       "content": {
        "cell": "5021b71a-a59d-49f3-88be-4d0890bbf014",
        "part": "whole"
       },
       "id": "3456c295-08c6-4544-afab-7966a2d505e4"
      }
     }
    },
    "2ea23e6d-2433-43c5-b618-80efd86f74e4": {
     "id": "2ea23e6d-2433-43c5-b618-80efd86f74e4",
     "prev": "15ce8f87-0fd9-41d9-ac1c-18ebb85d1136",
     "regions": {
      "268c09e7-2ab2-488a-9826-9f67ee0f80a6": {
       "attrs": {
        "height": 0.8,
        "width": 0.8,
        "x": 0.1,
        "y": 0.1
       },
       "content": {
        "cell": "b2390d1d-9b7a-42dc-9426-cd1b5051f4f6",
        "part": "whole"
       },
       "id": "268c09e7-2ab2-488a-9826-9f67ee0f80a6"
      }
     }
    },
    "2fc0f7ce-5812-4ef9-a5a0-963b9011dac6": {
     "id": "2fc0f7ce-5812-4ef9-a5a0-963b9011dac6",
     "prev": "daac68ce-0097-44f0-903e-8e91f1951e62",
     "regions": {
      "d568cb23-0fac-451b-b59b-fff2c090a7ca": {
       "attrs": {
        "height": 0.8,
        "width": 0.8,
        "x": 0.1,
        "y": 0.1
       },
       "content": {
        "cell": "61b5ba18-2f6e-48ad-9e55-629057c0951c",
        "part": "whole"
       },
       "id": "d568cb23-0fac-451b-b59b-fff2c090a7ca"
      }
     }
    },
    "34b629e7-f47e-4adc-b79a-6ef229996ff0": {
     "id": "34b629e7-f47e-4adc-b79a-6ef229996ff0",
     "prev": "8aa9fccf-d35c-4672-9bb8-10f9e483a721",
     "regions": {
      "8017d448-8631-42a9-89a9-0bae965e7ac2": {
       "attrs": {
        "height": 0.8,
        "width": 0.8,
        "x": 0.1,
        "y": 0.1
       },
       "content": {
        "cell": "e4ff3173-a168-4842-8082-0d75590b1fc7",
        "part": "whole"
       },
       "id": "8017d448-8631-42a9-89a9-0bae965e7ac2"
      }
     }
    },
    "3bbf256b-d555-45e2-8268-0b2d91ff0dd5": {
     "id": "3bbf256b-d555-45e2-8268-0b2d91ff0dd5",
     "prev": "2ea23e6d-2433-43c5-b618-80efd86f74e4",
     "regions": {
      "a99ca5bc-8653-4584-9d31-f3ccfa50e623": {
       "attrs": {
        "height": 0.8,
        "width": 0.8,
        "x": 0.1,
        "y": 0.1
       },
       "content": {
        "cell": "88e4d37f-80d7-4c0c-ad7b-8c57e028e49d",
        "part": "whole"
       },
       "id": "a99ca5bc-8653-4584-9d31-f3ccfa50e623"
      }
     }
    },
    "46779162-7eb1-41ba-b50a-5a7938554900": {
     "id": "46779162-7eb1-41ba-b50a-5a7938554900",
     "prev": "9a706a8c-0404-45c6-bcc7-e7a4e6064442",
     "regions": {
      "f38c1121-a96b-49b7-ab41-4b1ee615fdc1": {
       "attrs": {
        "height": 0.8,
        "width": 0.8,
        "x": 0.1,
        "y": 0.1
       },
       "content": {
        "cell": "e29269e7-2165-4cfb-a2c1-553074e9c9b4",
        "part": "whole"
       },
       "id": "f38c1121-a96b-49b7-ab41-4b1ee615fdc1"
      }
     }
    },
    "510ba2ee-1c9d-45f5-80a2-e0916c6361fd": {
     "id": "510ba2ee-1c9d-45f5-80a2-e0916c6361fd",
     "prev": "f3cdb332-606c-444c-8cf0-2449a47ea8ec",
     "regions": {
      "4e608c4e-1dc1-4d9e-bbf9-d1d41ef01a29": {
       "attrs": {
        "height": 0.8,
        "width": 0.8,
        "x": 0.1,
        "y": 0.1
       },
       "content": {
        "cell": "0c73ed27-ef8b-4cd1-aaf3-2e2fd5d6dafa",
        "part": "whole"
       },
       "id": "4e608c4e-1dc1-4d9e-bbf9-d1d41ef01a29"
      }
     }
    },
    "53474363-c41a-4329-a112-b93665118a4c": {
     "id": "53474363-c41a-4329-a112-b93665118a4c",
     "prev": "a1914eb1-4813-496d-8963-cc578d74fc0d",
     "regions": {
      "5930e1e0-22d8-48f7-b383-343b1f5ac743": {
       "attrs": {
        "height": 0.8,
        "width": 0.8,
        "x": 0.1,
        "y": 0.1
       },
       "content": {
        "cell": "3b0591f4-3456-4fcd-a7d6-168d60d3e6a5",
        "part": "whole"
       },
       "id": "5930e1e0-22d8-48f7-b383-343b1f5ac743"
      }
     }
    },
    "5ae17b91-80f3-4808-8dd7-76df581c171f": {
     "id": "5ae17b91-80f3-4808-8dd7-76df581c171f",
     "prev": "29a90473-f9fc-4bfa-ab46-44962b69d97c",
     "regions": {
      "3c4dfcaf-8f31-4832-bd38-26cccb4eab98": {
       "attrs": {
        "height": 0.8,
        "width": 0.8,
        "x": 0.1,
        "y": 0.1
       },
       "content": {
        "cell": "b1887b06-a821-48ae-ba67-04191c5af6c7",
        "part": "whole"
       },
       "id": "3c4dfcaf-8f31-4832-bd38-26cccb4eab98"
      }
     }
    },
    "5d0987c0-52bd-4b9b-b5e5-01eaffb116c7": {
     "id": "5d0987c0-52bd-4b9b-b5e5-01eaffb116c7",
     "prev": "93ac2853-8bc0-42b6-bd12-433c607a947d",
     "regions": {
      "dda4876b-25ea-424a-a0cf-82705e5ad4cb": {
       "attrs": {
        "height": 0.8,
        "width": 0.8,
        "x": 0.1,
        "y": 0.1
       },
       "content": {
        "cell": "ac436727-a94b-40fd-911e-6cfa5906ae3b",
        "part": "whole"
       },
       "id": "dda4876b-25ea-424a-a0cf-82705e5ad4cb"
      }
     }
    },
    "6ad09cbc-47a5-4b18-9e66-0071bafa5937": {
     "id": "6ad09cbc-47a5-4b18-9e66-0071bafa5937",
     "prev": "187fa342-e3bd-4b99-98f4-8284e4236ba6",
     "regions": {
      "9606cdcb-5591-4f35-9dd1-4723d97e2f56": {
       "attrs": {
        "height": 0.8,
        "width": 0.8,
        "x": 0.1,
        "y": 0.1
       },
       "content": {
        "cell": "90da9e98-747d-4203-bc9d-29754f325dca",
        "part": "whole"
       },
       "id": "9606cdcb-5591-4f35-9dd1-4723d97e2f56"
      }
     }
    },
    "6b7618b4-266e-437c-9259-6cc0fb59f395": {
     "id": "6b7618b4-266e-437c-9259-6cc0fb59f395",
     "prev": "868c6aa6-2dfa-4d9b-8c65-6113f2cb126f",
     "regions": {
      "2251dd8a-7bc0-4352-8d3b-0f04d52ee7b1": {
       "attrs": {
        "height": 0.8,
        "width": 0.8,
        "x": 0.1,
        "y": 0.1
       },
       "content": {
        "cell": "56209ff4-734c-4d00-b454-510b30db1a98",
        "part": "whole"
       },
       "id": "2251dd8a-7bc0-4352-8d3b-0f04d52ee7b1"
      }
     }
    },
    "6bdcaa7e-339b-4db9-b639-3e5f7e955c25": {
     "id": "6bdcaa7e-339b-4db9-b639-3e5f7e955c25",
     "prev": "dfa0f2b6-d9ee-456c-8fbc-0164f8646982",
     "regions": {
      "077dc0fb-98ce-4c47-a883-48863f821e85": {
       "attrs": {
        "height": 0.8,
        "width": 0.8,
        "x": 0.1,
        "y": 0.1
       },
       "content": {
        "cell": "adec12b3-6cab-445d-b01e-d35304028041",
        "part": "whole"
       },
       "id": "077dc0fb-98ce-4c47-a883-48863f821e85"
      }
     }
    },
    "739d8af1-9388-4177-a85a-94c0f9efd5fd": {
     "id": "739d8af1-9388-4177-a85a-94c0f9efd5fd",
     "prev": "00dc50a5-89d9-4019-a319-698122cd0288",
     "regions": {
      "833550ae-1c72-4faa-8c00-74440aff6326": {
       "attrs": {
        "height": 0.8,
        "width": 0.8,
        "x": 0.1,
        "y": 0.1
       },
       "content": {
        "cell": "fba81c9e-6c7a-468b-adb2-4ba03e6f919b",
        "part": "whole"
       },
       "id": "833550ae-1c72-4faa-8c00-74440aff6326"
      }
     }
    },
    "77eee2ec-433a-43da-939e-2b674dd84db2": {
     "id": "77eee2ec-433a-43da-939e-2b674dd84db2",
     "prev": "12450212-231e-41fc-8685-897b012c6fb6",
     "regions": {
      "a3b4b9e1-850e-47bf-8248-c5fe45bf96e7": {
       "attrs": {
        "height": 0.8,
        "width": 0.8,
        "x": 0.1,
        "y": 0.1
       },
       "content": {
        "cell": "0b527ff7-7e15-4446-9e1d-6b57f0be2987",
        "part": "whole"
       },
       "id": "a3b4b9e1-850e-47bf-8248-c5fe45bf96e7"
      }
     }
    },
    "79831031-e005-444a-a8cb-fdb31edebcef": {
     "id": "79831031-e005-444a-a8cb-fdb31edebcef",
     "prev": "074182c4-2f1a-473a-ba7b-a6a315194d4d",
     "regions": {
      "0a192fac-982b-407c-aad6-5d0a5b35309f": {
       "attrs": {
        "height": 0.8,
        "width": 0.8,
        "x": 0.1,
        "y": 0.1
       },
       "content": {
        "cell": "3ed13b4d-69c4-404d-94c5-c509778d848e",
        "part": "whole"
       },
       "id": "0a192fac-982b-407c-aad6-5d0a5b35309f"
      }
     }
    },
    "85e0af47-028f-42b9-8415-4bac10d6b52e": {
     "id": "85e0af47-028f-42b9-8415-4bac10d6b52e",
     "prev": "af469044-a8eb-4b88-a283-0d01a6ea2584",
     "regions": {
      "9d93ff4a-6e11-4ff8-89be-fb8086b4f167": {
       "attrs": {
        "height": 0.8,
        "width": 0.8,
        "x": 0.1,
        "y": 0.1
       },
       "content": {
        "cell": "ed1549c9-61ca-4a20-9d03-112c3f05a795",
        "part": "whole"
       },
       "id": "9d93ff4a-6e11-4ff8-89be-fb8086b4f167"
      }
     }
    },
    "868c6aa6-2dfa-4d9b-8c65-6113f2cb126f": {
     "id": "868c6aa6-2dfa-4d9b-8c65-6113f2cb126f",
     "prev": "5ae17b91-80f3-4808-8dd7-76df581c171f",
     "regions": {
      "ef03c126-9fdd-4f6a-ba62-5bf2d1dfb4b0": {
       "attrs": {
        "height": 0.8,
        "width": 0.8,
        "x": 0.1,
        "y": 0.1
       },
       "content": {
        "cell": "f14b19a7-1727-4599-bef5-debf1720c847",
        "part": "whole"
       },
       "id": "ef03c126-9fdd-4f6a-ba62-5bf2d1dfb4b0"
      }
     }
    },
    "8aa9fccf-d35c-4672-9bb8-10f9e483a721": {
     "id": "8aa9fccf-d35c-4672-9bb8-10f9e483a721",
     "prev": "aa38a24f-b1ab-4fdb-ac6e-d554f37f9231",
     "regions": {
      "198909f3-a542-4066-b42a-def900da9d39": {
       "attrs": {
        "height": 0.8,
        "width": 0.8,
        "x": 0.1,
        "y": 0.1
       },
       "content": {
        "cell": "95ad6bb0-9fc1-46b3-9707-f3adb98305eb",
        "part": "whole"
       },
       "id": "198909f3-a542-4066-b42a-def900da9d39"
      }
     }
    },
    "93ac2853-8bc0-42b6-bd12-433c607a947d": {
     "id": "93ac2853-8bc0-42b6-bd12-433c607a947d",
     "prev": "739d8af1-9388-4177-a85a-94c0f9efd5fd",
     "regions": {
      "1dac0310-4b0e-4f31-8bca-6129d97e5d41": {
       "attrs": {
        "height": 0.8,
        "width": 0.8,
        "x": 0.1,
        "y": 0.1
       },
       "content": {
        "cell": "b5e01cb3-f5fb-4551-a69a-ca93042d819e",
        "part": "whole"
       },
       "id": "1dac0310-4b0e-4f31-8bca-6129d97e5d41"
      }
     }
    },
    "9a706a8c-0404-45c6-bcc7-e7a4e6064442": {
     "id": "9a706a8c-0404-45c6-bcc7-e7a4e6064442",
     "prev": "a1745911-7301-4347-adcd-229c5242683c",
     "regions": {
      "c40710f5-8741-472c-9e10-756b8f3beaae": {
       "attrs": {
        "height": 0.8,
        "width": 0.8,
        "x": 0.1,
        "y": 0.1
       },
       "content": {
        "cell": "7c2766f9-cac8-4e0d-a3e5-36927ed3de7c",
        "part": "whole"
       },
       "id": "c40710f5-8741-472c-9e10-756b8f3beaae"
      }
     }
    },
    "a1745911-7301-4347-adcd-229c5242683c": {
     "id": "a1745911-7301-4347-adcd-229c5242683c",
     "prev": "edcc5428-e2ae-425b-96a2-429ca1d3e1d4",
     "regions": {
      "15185934-a982-46a7-97b0-4c2ef092be56": {
       "attrs": {
        "height": 0.8,
        "width": 0.8,
        "x": 0.1,
        "y": 0.1
       },
       "content": {
        "cell": "320f22bb-bdd5-4377-8731-b09073f15c4f",
        "part": "whole"
       },
       "id": "15185934-a982-46a7-97b0-4c2ef092be56"
      }
     }
    },
    "a1914eb1-4813-496d-8963-cc578d74fc0d": {
     "id": "a1914eb1-4813-496d-8963-cc578d74fc0d",
     "prev": "85e0af47-028f-42b9-8415-4bac10d6b52e",
     "regions": {
      "edbcd3aa-4892-43ae-8ef0-748985112c86": {
       "attrs": {
        "height": 0.8,
        "width": 0.8,
        "x": 0.1,
        "y": 0.1
       },
       "content": {
        "cell": "d48794fa-324f-4543-97a7-02cc2ed6070e",
        "part": "whole"
       },
       "id": "edbcd3aa-4892-43ae-8ef0-748985112c86"
      }
     }
    },
    "aa38a24f-b1ab-4fdb-ac6e-d554f37f9231": {
     "id": "aa38a24f-b1ab-4fdb-ac6e-d554f37f9231",
     "prev": "fbf911b3-efb6-4f13-bb45-d0e7d0229e88",
     "regions": {
      "a2244bcf-1367-4ff8-81f7-0fa2c3f4c3ba": {
       "attrs": {
        "height": 0.8,
        "width": 0.8,
        "x": 0.1,
        "y": 0.1
       },
       "content": {
        "cell": "564abd7a-5038-438f-8722-cd83c9548aff",
        "part": "whole"
       },
       "id": "a2244bcf-1367-4ff8-81f7-0fa2c3f4c3ba"
      }
     }
    },
    "af469044-a8eb-4b88-a283-0d01a6ea2584": {
     "id": "af469044-a8eb-4b88-a283-0d01a6ea2584",
     "prev": "77eee2ec-433a-43da-939e-2b674dd84db2",
     "regions": {
      "1a73df40-6a2c-48ce-b7ab-befacba26d6f": {
       "attrs": {
        "height": 0.8,
        "width": 0.8,
        "x": 0.1,
        "y": 0.1
       },
       "content": {
        "cell": "b5d2e98a-283b-413f-bb5b-71abec1c4396",
        "part": "whole"
       },
       "id": "1a73df40-6a2c-48ce-b7ab-befacba26d6f"
      }
     }
    },
    "b8588f0d-f678-4fd6-9def-119dc6249bbc": {
     "id": "b8588f0d-f678-4fd6-9def-119dc6249bbc",
     "prev": "1d2d5175-685c-46fb-8d33-8060ba054a53",
     "regions": {
      "95bea6ed-8157-4063-b655-3e8e1420f787": {
       "attrs": {
        "height": 0.8,
        "width": 0.8,
        "x": 0.1,
        "y": 0.1
       },
       "content": {
        "cell": "afffc8b8-d120-497d-ad87-5280d40f2ffa",
        "part": "whole"
       },
       "id": "95bea6ed-8157-4063-b655-3e8e1420f787"
      }
     }
    },
    "b88ef786-69d6-477d-b295-7a00f2101a66": {
     "id": "b88ef786-69d6-477d-b295-7a00f2101a66",
     "prev": "e3542fbd-1e28-426d-ab1c-f20588d513b3",
     "regions": {
      "c6a056de-0d39-460c-a537-4443c78f5f58": {
       "attrs": {
        "height": 0.8,
        "width": 0.8,
        "x": 0.1,
        "y": 0.1
       },
       "content": {
        "cell": "f536805b-6976-4c33-ba9d-636d544e521c",
        "part": "whole"
       },
       "id": "c6a056de-0d39-460c-a537-4443c78f5f58"
      }
     }
    },
    "d0cec765-851b-49e5-9a53-27a93c8229ea": {
     "id": "d0cec765-851b-49e5-9a53-27a93c8229ea",
     "prev": "245c4015-3e6d-486e-889b-579c6e52a017",
     "regions": {
      "fb428f55-a68f-435b-8981-f531f1c51356": {
       "attrs": {
        "height": 0.8,
        "width": 0.8,
        "x": 0.1,
        "y": 0.1
       },
       "content": {
        "cell": "a2d81944-2730-440f-afa5-d28d871750e7",
        "part": "whole"
       },
       "id": "fb428f55-a68f-435b-8981-f531f1c51356"
      }
     }
    },
    "d3bc4e05-43e3-4632-b32e-606951e39b21": {
     "id": "d3bc4e05-43e3-4632-b32e-606951e39b21",
     "prev": "df2f3da6-cb10-496f-a841-b8024b9668b0",
     "regions": {
      "9c5a94fb-aaac-4de8-815f-af9f0360c319": {
       "attrs": {
        "height": 0.8,
        "width": 0.8,
        "x": 0.1,
        "y": 0.1
       },
       "content": {
        "cell": "76a9ce29-d048-4b69-add0-1704b7e8b3f4",
        "part": "whole"
       },
       "id": "9c5a94fb-aaac-4de8-815f-af9f0360c319"
      }
     }
    },
    "d515a799-9589-4635-85d9-3ec200bbcb8b": {
     "id": "d515a799-9589-4635-85d9-3ec200bbcb8b",
     "prev": "f9be465d-d79d-4c88-a46f-657c2a74ac16",
     "regions": {
      "9cf46670-d35f-4887-8765-8298dbda75ec": {
       "attrs": {
        "height": 0.8,
        "width": 0.8,
        "x": 0.1,
        "y": 0.1
       },
       "content": {
        "cell": "702b81c3-b54e-4ac9-aae7-8e5a9321db2e",
        "part": "whole"
       },
       "id": "9cf46670-d35f-4887-8765-8298dbda75ec"
      }
     }
    },
    "daac68ce-0097-44f0-903e-8e91f1951e62": {
     "id": "daac68ce-0097-44f0-903e-8e91f1951e62",
     "prev": "6b7618b4-266e-437c-9259-6cc0fb59f395",
     "regions": {
      "ee3c160c-2ad1-4aec-bc64-0285ba3c5da0": {
       "attrs": {
        "height": 0.8,
        "width": 0.8,
        "x": 0.1,
        "y": 0.1
       },
       "content": {
        "cell": "7e6be5e7-fe20-4c22-ae8e-37af04a0ef4e",
        "part": "whole"
       },
       "id": "ee3c160c-2ad1-4aec-bc64-0285ba3c5da0"
      }
     }
    },
    "dac645ef-2d6f-4d99-adc2-6b99c21574d5": {
     "id": "dac645ef-2d6f-4d99-adc2-6b99c21574d5",
     "prev": "d515a799-9589-4635-85d9-3ec200bbcb8b",
     "regions": {
      "17797711-3680-4790-998c-9d301137c039": {
       "attrs": {
        "height": 0.8,
        "width": 0.8,
        "x": 0.1,
        "y": 0.1
       },
       "content": {
        "cell": "e07c458a-7161-4c85-859e-efa8a3363788",
        "part": "whole"
       },
       "id": "17797711-3680-4790-998c-9d301137c039"
      }
     }
    },
    "df2f3da6-cb10-496f-a841-b8024b9668b0": {
     "id": "df2f3da6-cb10-496f-a841-b8024b9668b0",
     "prev": "3bbf256b-d555-45e2-8268-0b2d91ff0dd5",
     "regions": {
      "c9fb0332-cc41-41d6-8ab0-2b425033c32a": {
       "attrs": {
        "height": 0.8,
        "width": 0.8,
        "x": 0.1,
        "y": 0.1
       },
       "content": {
        "cell": "ee855301-ee41-407e-89d4-d8a3b3f33dcf",
        "part": "whole"
       },
       "id": "c9fb0332-cc41-41d6-8ab0-2b425033c32a"
      }
     }
    },
    "dfa0f2b6-d9ee-456c-8fbc-0164f8646982": {
     "id": "dfa0f2b6-d9ee-456c-8fbc-0164f8646982",
     "prev": "53474363-c41a-4329-a112-b93665118a4c",
     "regions": {
      "d9492cb9-2c79-47d4-8fdc-2f08de2de9da": {
       "attrs": {
        "height": 0.8,
        "width": 0.8,
        "x": 0.1,
        "y": 0.1
       },
       "content": {
        "cell": "d0f7407f-254f-4abe-88f3-d246d01c066d",
        "part": "whole"
       },
       "id": "d9492cb9-2c79-47d4-8fdc-2f08de2de9da"
      }
     }
    },
    "e3542fbd-1e28-426d-ab1c-f20588d513b3": {
     "id": "e3542fbd-1e28-426d-ab1c-f20588d513b3",
     "prev": "2fc0f7ce-5812-4ef9-a5a0-963b9011dac6",
     "regions": {
      "77f90646-ddb4-4018-b450-a1d63c001eda": {
       "attrs": {
        "height": 0.8,
        "width": 0.8,
        "x": 0.1,
        "y": 0.1
       },
       "content": {
        "cell": "4c045f93-1c2a-4539-9d30-1142e2f47ec3",
        "part": "whole"
       },
       "id": "77f90646-ddb4-4018-b450-a1d63c001eda"
      }
     }
    },
    "edcc5428-e2ae-425b-96a2-429ca1d3e1d4": {
     "id": "edcc5428-e2ae-425b-96a2-429ca1d3e1d4",
     "prev": "6bdcaa7e-339b-4db9-b639-3e5f7e955c25",
     "regions": {
      "5b8a4f1f-89ed-49c9-b139-9cba7e7d229d": {
       "attrs": {
        "height": 0.8,
        "width": 0.8,
        "x": 0.1,
        "y": 0.1
       },
       "content": {
        "cell": "f0e1d65f-56aa-482f-b181-1b0fe89fc36d",
        "part": "whole"
       },
       "id": "5b8a4f1f-89ed-49c9-b139-9cba7e7d229d"
      }
     }
    },
    "f3cdb332-606c-444c-8cf0-2449a47ea8ec": {
     "id": "f3cdb332-606c-444c-8cf0-2449a47ea8ec",
     "prev": "6ad09cbc-47a5-4b18-9e66-0071bafa5937",
     "regions": {
      "d4692e49-440f-460c-b429-742c402e1855": {
       "attrs": {
        "height": 0.8,
        "width": 0.8,
        "x": 0.1,
        "y": 0.1
       },
       "content": {
        "cell": "3dd29f4b-f3bb-42e0-bcbe-5717498c4904",
        "part": "whole"
       },
       "id": "d4692e49-440f-460c-b429-742c402e1855"
      }
     }
    },
    "f671dc12-ae36-4a24-ae6c-c3f4ff3a04a4": {
     "id": "f671dc12-ae36-4a24-ae6c-c3f4ff3a04a4",
     "prev": "b88ef786-69d6-477d-b295-7a00f2101a66",
     "regions": {
      "35df2562-413f-40e7-b519-1b085efd2580": {
       "attrs": {
        "height": 0.8,
        "width": 0.8,
        "x": 0.1,
        "y": 0.1
       },
       "content": {
        "cell": "96bff41b-171d-43dd-a6e7-ba868667a437",
        "part": "whole"
       },
       "id": "35df2562-413f-40e7-b519-1b085efd2580"
      }
     }
    },
    "f9be465d-d79d-4c88-a46f-657c2a74ac16": {
     "id": "f9be465d-d79d-4c88-a46f-657c2a74ac16",
     "prev": "46779162-7eb1-41ba-b50a-5a7938554900",
     "regions": {
      "e450d7aa-8baf-4168-ac76-722865338a67": {
       "attrs": {
        "height": 0.8,
        "width": 0.8,
        "x": 0.1,
        "y": 0.1
       },
       "content": {
        "cell": "9f183dff-2a32-45be-a72f-a397af9ac1cf",
        "part": "whole"
       },
       "id": "e450d7aa-8baf-4168-ac76-722865338a67"
      }
     }
    },
    "fbf911b3-efb6-4f13-bb45-d0e7d0229e88": {
     "id": "fbf911b3-efb6-4f13-bb45-d0e7d0229e88",
     "prev": "289971b7-973f-4bb6-8995-be79ab67a5d8",
     "regions": {
      "f0cd6b2e-9a80-4df5-9489-f949f6fbceb9": {
       "attrs": {
        "height": 0.8,
        "width": 0.8,
        "x": 0.1,
        "y": 0.1
       },
       "content": {
        "cell": "393304de-fd36-45ec-8672-70623a9d463d",
        "part": "whole"
       },
       "id": "f0cd6b2e-9a80-4df5-9489-f949f6fbceb9"
      }
     }
    }
   },
   "themes": {}
  },
  "widgets": {
   "state": {},
   "version": "1.0.0"
  }
 },
 "nbformat": 4,
 "nbformat_minor": 2
}
